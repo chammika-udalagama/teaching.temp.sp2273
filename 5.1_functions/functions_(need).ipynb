{
 "cells": [
  {
   "cell_type": "code",
   "execution_count": null,
   "id": "0015fc52-1a52-4767-9d05-f7e236235027",
   "metadata": {},
   "outputs": [],
   "source": []
  },
  {
   "cell_type": "code",
   "execution_count": 3,
   "id": "73497029-a2b2-4d49-a734-62825c82c072",
   "metadata": {},
   "outputs": [],
   "source": [
    "import numpy as np"
   ]
  },
  {
   "attachments": {},
   "cell_type": "markdown",
   "id": "123456",
   "metadata": {},
   "source": [
    "<div style=\"text-align:left;font-size:2em\"><span style=\"font-weight:bolder;font-size:1.25em\">SP2273 | Learning Portfolio</span><br><br><span style=\"font-weight:bold;color:darkred\">Functions (Need)</span></div>"
   ]
  },
  {
   "cell_type": "code",
   "execution_count": null,
   "id": "47fc801b-477c-487e-8c75-0937cba496b6",
   "metadata": {},
   "outputs": [],
   "source": [
    "x=print('hahahhahaha')"
   ]
  },
  {
   "cell_type": "code",
   "execution_count": null,
   "id": "96f6a5f2-fb86-4bb3-90fd-079fcb1a5178",
   "metadata": {},
   "outputs": [],
   "source": [
    "y=sum([1,2])  # return xxxx"
   ]
  },
  {
   "cell_type": "code",
   "execution_count": null,
   "id": "d44bde9b-b056-4b76-80ca-332176df5170",
   "metadata": {},
   "outputs": [],
   "source": [
    "print(f'{x=}, {y=}')"
   ]
  },
  {
   "attachments": {},
   "cell_type": "markdown",
   "id": "5e74c508",
   "metadata": {},
   "source": [
    "# 1 User-defined functions"
   ]
  },
  {
   "attachments": {},
   "cell_type": "markdown",
   "id": "e14935c6",
   "metadata": {},
   "source": [
    "## 1.1 Named Functions"
   ]
  },
  {
   "attachments": {},
   "cell_type": "markdown",
   "id": "7b07681e",
   "metadata": {},
   "source": [
    "### Named functions that return"
   ]
  },
  {
   "cell_type": "code",
   "execution_count": 11,
   "id": "d94a7222",
   "metadata": {},
   "outputs": [],
   "source": [
    "def greeting(name, sidekick):\n",
    "    if name == 'Batman':\n",
    "        return 'Hello Batman! So, nice to meet you!'\n",
    "    else:\n",
    "        return f'Hello {name}!'"
   ]
  },
  {
   "cell_type": "code",
   "execution_count": 17,
   "id": "044224b2-ff31-4ef3-be14-dcb48c1db6c8",
   "metadata": {},
   "outputs": [
    {
     "data": {
      "text/plain": [
       "'Hello Robin!'"
      ]
     },
     "execution_count": 17,
     "metadata": {},
     "output_type": "execute_result"
    }
   ],
   "source": [
    "greeting(name='Robin', sidekick='Joker')\n",
    "#greeting(name='Joker')"
   ]
  },
  {
   "cell_type": "code",
   "execution_count": 12,
   "id": "0bb58bf0-978f-4c3b-8e1c-a7ff7b693a46",
   "metadata": {},
   "outputs": [],
   "source": [
    "def basic_stats(numbers):\n",
    "    np_numbers = np.array(numbers)\n",
    "    my_min = np_numbers.min()\n",
    "    my_max = np_numbers.max()\n",
    "    my_mean = np_numbers.mean()\n",
    "    return np.array([my_min, my_max, my_mean])"
   ]
  },
  {
   "cell_type": "code",
   "execution_count": 14,
   "id": "84fab2c0-91df-45f3-b986-9590dda39542",
   "metadata": {},
   "outputs": [],
   "source": [
    "list_min, list_max, list_mean=basic_stats([1, 2, 3, 4, 5])"
   ]
  },
  {
   "cell_type": "code",
   "execution_count": 15,
   "id": "568c778f-1298-4808-945b-459c019dbc8a",
   "metadata": {},
   "outputs": [
    {
     "data": {
      "text/plain": [
       "5.0"
      ]
     },
     "execution_count": 15,
     "metadata": {},
     "output_type": "execute_result"
    }
   ],
   "source": [
    "list_max"
   ]
  },
  {
   "attachments": {},
   "cell_type": "markdown",
   "id": "4e4c7281",
   "metadata": {},
   "source": [
    "### Named functions that don’t return"
   ]
  },
  {
   "cell_type": "code",
   "execution_count": null,
   "id": "4fb9d16f",
   "metadata": {},
   "outputs": [],
   "source": [
    "\n",
    "# Your code here\n"
   ]
  },
  {
   "attachments": {},
   "cell_type": "markdown",
   "id": "09b3277c",
   "metadata": {},
   "source": [
    "## 1.2 Anonymous functions"
   ]
  },
  {
   "cell_type": "code",
   "execution_count": 27,
   "id": "1445ee50-cd3b-4e13-9e36-3bdb8aa0f2b8",
   "metadata": {},
   "outputs": [
    {
     "data": {
      "text/plain": [
       "[[9, 0, -10],\n",
       " [8, 1, -11],\n",
       " [7, 2, -12],\n",
       " [6, 3, -13],\n",
       " [5, 4, -14],\n",
       " [4, 5, -15],\n",
       " [3, 6, -16],\n",
       " [2, 7, -17],\n",
       " [1, 8, -18],\n",
       " [0, 9, -19]]"
      ]
     },
     "execution_count": 27,
     "metadata": {},
     "output_type": "execute_result"
    }
   ],
   "source": [
    "numbers=[[9, 0, -10],\n",
    "         [8, 1, -11],\n",
    "         [7, 2, -12],\n",
    "         [6, 3, -13],\n",
    "         [5, 4, -14],\n",
    "         [4, 5, -15],\n",
    "         [3, 6, -16],\n",
    "         [2, 7, -17],\n",
    "         [1, 8, -18],\n",
    "         [0, 9, -19]]\n",
    "\n",
    "#def my_sort_function(numbers):\n",
    "#    return -sum(numbers)\n",
    "\n",
    "sorted(numbers, key=lambda numbers: 'a' )"
   ]
  },
  {
   "cell_type": "code",
   "execution_count": 18,
   "id": "37c5de4e-4cf2-4981-b66f-6d1f1c0bed96",
   "metadata": {},
   "outputs": [
    {
     "data": {
      "text/plain": [
       "[[0, 9, -19],\n",
       " [1, 8, -18],\n",
       " [2, 7, -17],\n",
       " [3, 6, -16],\n",
       " [4, 5, -15],\n",
       " [5, 4, -14],\n",
       " [6, 3, -13],\n",
       " [7, 2, -12],\n",
       " [8, 1, -11],\n",
       " [9, 0, -10]]"
      ]
     },
     "execution_count": 18,
     "metadata": {},
     "output_type": "execute_result"
    }
   ],
   "source": []
  },
  {
   "cell_type": "code",
   "execution_count": 33,
   "id": "9dbb2a37-7f17-4d31-89c3-a0b9430fae0f",
   "metadata": {},
   "outputs": [],
   "source": [
    "my_short_function = lambda name, sidekick: f\"Hello {name}!\""
   ]
  },
  {
   "cell_type": "code",
   "execution_count": 35,
   "id": "76a2c3ff-ecd9-4b79-ab59-7c7a49eb186d",
   "metadata": {},
   "outputs": [
    {
     "data": {
      "text/plain": [
       "'Hello Super Man!'"
      ]
     },
     "execution_count": 35,
     "metadata": {},
     "output_type": "execute_result"
    }
   ],
   "source": [
    "my_short_function(name=\"Super Man\", sidekick='kkkk')"
   ]
  },
  {
   "attachments": {},
   "cell_type": "markdown",
   "id": "28ef32b9",
   "metadata": {},
   "source": [
    "## 1.3 Optional arguments"
   ]
  },
  {
   "cell_type": "code",
   "execution_count": 36,
   "id": "8da9c9ea-53e2-4ed6-966d-c68844cb7903",
   "metadata": {},
   "outputs": [
    {
     "name": "stdout",
     "output_type": "stream",
     "text": [
      "Help on built-in function print in module builtins:\n",
      "\n",
      "print(*args, sep=' ', end='\\n', file=None, flush=False)\n",
      "    Prints the values to a stream, or to sys.stdout by default.\n",
      "\n",
      "    sep\n",
      "      string inserted between values, default a space.\n",
      "    end\n",
      "      string appended after the last value, default a newline.\n",
      "    file\n",
      "      a file-like object (stream); defaults to the current sys.stdout.\n",
      "    flush\n",
      "      whether to forcibly flush the stream.\n",
      "\n"
     ]
    }
   ],
   "source": [
    "help(print)"
   ]
  },
  {
   "cell_type": "code",
   "execution_count": 48,
   "id": "e7626c3e-221a-4507-a107-1220ec66dd29",
   "metadata": {},
   "outputs": [],
   "source": [
    "def greeting(name, pre='Super'):\n",
    "    if name == 'Batman':\n",
    "        return 'Hello Batman! So, nice to meet you!'\n",
    "    else:\n",
    "        return f'Hello --{pre}--{name}!'"
   ]
  },
  {
   "cell_type": "code",
   "execution_count": 50,
   "id": "7b24654e-cfbd-4506-a17d-1aff7e898938",
   "metadata": {},
   "outputs": [
    {
     "data": {
      "text/plain": [
       "'Hello --Hahaha--Robin!'"
      ]
     },
     "execution_count": 50,
     "metadata": {},
     "output_type": "execute_result"
    }
   ],
   "source": [
    "greeting('Robin', pre='Hahaha')"
   ]
  },
  {
   "cell_type": "code",
   "execution_count": 51,
   "id": "26879da0-e431-4d50-a34e-1467ede2c7e2",
   "metadata": {},
   "outputs": [
    {
     "name": "stdout",
     "output_type": "stream",
     "text": [
      "I am Batman!\n",
      "I---am---Batman!\n"
     ]
    }
   ],
   "source": [
    "# Using default values\n",
    "print('I', 'am', 'Batman!')\n",
    "# Specifying an optional argument\n",
    "print('I', 'am', 'Batman!', sep='---')  "
   ]
  },
  {
   "attachments": {},
   "cell_type": "markdown",
   "id": "d0ef3cf8",
   "metadata": {},
   "source": [
    "## 1.4 The importance of functions?"
   ]
  },
  {
   "attachments": {},
   "cell_type": "markdown",
   "id": "b0519653",
   "metadata": {},
   "source": [
    "### An argument for functions"
   ]
  },
  {
   "cell_type": "code",
   "execution_count": null,
   "id": "ac9f0aa8",
   "metadata": {},
   "outputs": [],
   "source": [
    "\n",
    "# Your code here\n"
   ]
  },
  {
   "attachments": {},
   "cell_type": "markdown",
   "id": "6656b144",
   "metadata": {},
   "source": [
    "### A word of caution"
   ]
  },
  {
   "cell_type": "code",
   "execution_count": null,
   "id": "70e619d0",
   "metadata": {},
   "outputs": [],
   "source": [
    "\n",
    "# Your code here\n"
   ]
  }
 ],
 "metadata": {
  "kernelspec": {
   "display_name": "Python 3 (ipykernel)",
   "language": "python",
   "name": "python3"
  },
  "language_info": {
   "codemirror_mode": {
    "name": "ipython",
    "version": 3
   },
   "file_extension": ".py",
   "mimetype": "text/x-python",
   "name": "python",
   "nbconvert_exporter": "python",
   "pygments_lexer": "ipython3",
   "version": "3.12.4"
  },
  "toc": {
   "base_numbering": 1,
   "nav_menu": {},
   "number_sections": true,
   "sideBar": true,
   "skip_h1_title": false,
   "title_cell": "Table of Contents",
   "title_sidebar": "Contents",
   "toc_cell": false,
   "toc_position": {},
   "toc_section_display": true,
   "toc_window_display": false
  },
  "vscode": {
   "interpreter": {
    "hash": "31f2aee4e71d21fbe5cf8b01ff0e069b9275f58929596ceb00d14d90e3e16cd6"
   }
  }
 },
 "nbformat": 4,
 "nbformat_minor": 5
}
