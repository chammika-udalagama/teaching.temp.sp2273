{
 "cells": [
  {
   "cell_type": "code",
   "execution_count": 1,
   "id": "c231a5b9-cc8e-414f-b509-f7fbabb8f10f",
   "metadata": {},
   "outputs": [
    {
     "name": "stdout",
     "output_type": "stream",
     "text": [
      "Hello World!\n"
     ]
    }
   ],
   "source": [
    "print('Hello World!')"
   ]
  },
  {
   "cell_type": "code",
   "execution_count": 4,
   "id": "c6a0fcb4-e9e7-488d-97a4-4fd00a1e62aa",
   "metadata": {},
   "outputs": [
    {
     "name": "stdout",
     "output_type": "stream",
     "text": [
      "Hello World!\n"
     ]
    }
   ],
   "source": [
    "print('Hello World!')"
   ]
  },
  {
   "cell_type": "markdown",
   "id": "81ec8f88-d523-4749-bb94-4a5c92b722ea",
   "metadata": {},
   "source": [
    "# This is a Start\n",
    "\n",
    "## Subsection 1\n",
    "\n",
    "### Hahahah 1\n",
    "\n",
    "### MUwahaha 2\n",
    "The **ships** hung in *the sky* in much the same way that bricks don’t.\n",
    "\n",
    "# Displaying Code\n",
    "\n",
    "```python\n",
    "print('Hello World!')\n",
    "```\n",
    "\n",
    "# Equation\n",
    "\n",
    "$$\\int f(x) dx$$\n",
    "\n",
    "# Links\n",
    "\n",
    "[This is SPS](https://sps.nus.edu.sg/)\n",
    "\n",
    "# Images\n",
    "\n",
    "![]()"
   ]
  },
  {
   "cell_type": "code",
   "execution_count": null,
   "id": "6af3c88e-9dc8-4c62-a950-e80adc93aaaa",
   "metadata": {},
   "outputs": [],
   "source": []
  }
 ],
 "metadata": {
  "kernelspec": {
   "display_name": "Python 3 (ipykernel)",
   "language": "python",
   "name": "python3"
  },
  "language_info": {
   "codemirror_mode": {
    "name": "ipython",
    "version": 3
   },
   "file_extension": ".py",
   "mimetype": "text/x-python",
   "name": "python",
   "nbconvert_exporter": "python",
   "pygments_lexer": "ipython3",
   "version": "3.12.3"
  }
 },
 "nbformat": 4,
 "nbformat_minor": 5
}
