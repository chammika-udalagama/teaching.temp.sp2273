{
 "cells": [
  {
   "attachments": {},
   "cell_type": "markdown",
   "id": "123456",
   "metadata": {},
   "source": [
    "<div style=\"text-align:left;font-size:2em\"><span style=\"font-weight:bolder;font-size:1.25em\">SP2273 | Learning Portfolio</span><br><br><span style=\"font-weight:bold;color:darkred\">Loops (Good)</span></div>"
   ]
  },
  {
   "attachments": {},
   "cell_type": "markdown",
   "id": "a705aa82",
   "metadata": {},
   "source": [
    "# 1 Interrupting the flow"
   ]
  },
  {
   "cell_type": "markdown",
   "id": "38c37488-da4d-48ad-9c0b-49ff2b1fd5f2",
   "metadata": {},
   "source": [
    "### Example 1"
   ]
  },
  {
   "cell_type": "code",
   "execution_count": null,
   "id": "cfba09f9-8d92-4f5b-ade1-4fc0e9fcb604",
   "metadata": {},
   "outputs": [],
   "source": [
    "for power in range(2, 5+1):\n",
    "    print(power)"
   ]
  },
  {
   "cell_type": "code",
   "execution_count": null,
   "id": "e2580033-fcbf-4f66-bb17-cd36c4bb9b9e",
   "metadata": {},
   "outputs": [],
   "source": [
    "for power in range(5):   # 0,1,2,3,4\n",
    "    number = 10**power\n",
    "    if number > 5000:\n",
    "        break\n",
    "    print(power, number)"
   ]
  },
  {
   "cell_type": "markdown",
   "id": "71752366-2348-4702-959c-a88369e12cb9",
   "metadata": {},
   "source": [
    "### Example 2"
   ]
  },
  {
   "cell_type": "code",
   "execution_count": null,
   "id": "95e65abe-dd84-4bb9-b76d-f194ce78b02e",
   "metadata": {},
   "outputs": [],
   "source": [
    "for power in range(5):\n",
    "    if power == 3:\n",
    "        continue        # Don't proceed further\n",
    "                        # IN THE CURRENT LOOP\n",
    "                        # if i == 3\n",
    "    # number = 10**power\n",
    "    # print(power, number)\n",
    "    print(power)"
   ]
  },
  {
   "cell_type": "markdown",
   "id": "e64a39e5-adeb-4fd3-8f41-6baf941c6a42",
   "metadata": {},
   "source": [
    "### Example 3"
   ]
  },
  {
   "cell_type": "code",
   "execution_count": null,
   "id": "b2a68835-c827-4959-b4f3-229e81c57d6f",
   "metadata": {},
   "outputs": [],
   "source": [
    "for number in range(10):\n",
    "    # Don't proceed if the remainder is zero\n",
    "    # I.e. if the number is even\n",
    "    if number % 2 == 0:\n",
    "        continue\n",
    "    print(number)"
   ]
  },
  {
   "cell_type": "markdown",
   "id": "4982bea2-6715-454c-aed9-b216d29f9cc9",
   "metadata": {},
   "source": [
    "### Example 4"
   ]
  },
  {
   "cell_type": "code",
   "execution_count": null,
   "id": "d1c71704-2763-444a-9ca8-85a736aac720",
   "metadata": {},
   "outputs": [],
   "source": [
    "number=0\n",
    "\n",
    "while True:\n",
    "    print('hahahaha')\n",
    "    number += 1\n",
    "    if number > 4: break"
   ]
  },
  {
   "cell_type": "code",
   "execution_count": null,
   "id": "334a7283-8f72-4a9f-96de-69e9e1c61bcd",
   "metadata": {},
   "outputs": [],
   "source": [
    "my_hahah=''\n",
    "\n",
    "while True:\n",
    "    my_hahah += 'ha'\n",
    "    print(my_hahah)\n",
    "    \n",
    "    if len(my_hahah) > 100: break"
   ]
  },
  {
   "cell_type": "code",
   "execution_count": 15,
   "id": "29865828-9d48-4d75-8b6f-14b91b03f389",
   "metadata": {},
   "outputs": [
    {
     "name": "stdout",
     "output_type": "stream",
     "text": [
      "ha\n",
      "haha\n",
      "hahaha\n",
      "hahahaha\n",
      "hahahahaha\n",
      "hahahahahaha\n",
      "hahahahahahaha\n",
      "hahahahahahahaha\n",
      "hahahahahahahahaha\n",
      "hahahahahahahahahaha\n",
      "hahahahahahahahahahaha\n",
      "hahahahahahahahahahahaha\n",
      "hahahahahahahahahahahahaha\n",
      "hahahahahahahahahahahahahaha\n",
      "hahahahahahahahahahahahahahaha\n",
      "hahahahahahahahahahahahahahahaha\n",
      "hahahahahahahahahahahahahahahahaha\n",
      "hahahahahahahahahahahahahahahahahaha\n",
      "hahahahahahahahahahahahahahahahahahaha\n",
      "hahahahahahahahahahahahahahahahahahahaha\n",
      "hahahahahahahahahahahahahahahahahahahahaha\n",
      "hahahahahahahahahahahahahahahahahahahahahaha\n",
      "hahahahahahahahahahahahahahahahahahahahahahaha\n",
      "hahahahahahahahahahahahahahahahahahahahahahahaha\n",
      "hahahahahahahahahahahahahahahahahahahahahahahahaha\n"
     ]
    }
   ],
   "source": [
    "my_hahah=''\n",
    "\n",
    "while len(my_hahah) < 50:\n",
    "    my_hahah += 'ha'\n",
    "    print(my_hahah)"
   ]
  },
  {
   "attachments": {},
   "cell_type": "markdown",
   "id": "506002d6",
   "metadata": {},
   "source": [
    "# 2 List comprehension!"
   ]
  },
  {
   "attachments": {},
   "cell_type": "markdown",
   "id": "b87bb1bc",
   "metadata": {},
   "source": [
    "## 2.1 Basic syntax"
   ]
  },
  {
   "cell_type": "code",
   "execution_count": 21,
   "id": "3eb95791-9533-4d1b-871c-23da3a15c7fc",
   "metadata": {},
   "outputs": [
    {
     "name": "stdout",
     "output_type": "stream",
     "text": [
      "0 1\n",
      "1 10\n",
      "2 100\n",
      "3 1000\n",
      "4 10000\n"
     ]
    },
    {
     "data": {
      "text/plain": [
       "[1, 10, 100, 1000, 10000]"
      ]
     },
     "execution_count": 21,
     "metadata": {},
     "output_type": "execute_result"
    }
   ],
   "source": [
    "my_numbers = []\n",
    "for power in range(5):   # 0,1,2,3,4\n",
    "    number = 10**power\n",
    "    my_numbers.append(number)\n",
    "    \n",
    "    print(power, number)\n",
    "\n",
    "my_numbers"
   ]
  },
  {
   "cell_type": "code",
   "execution_count": 25,
   "id": "00525dad-b7c2-4c79-a6ab-2370de5f6a45",
   "metadata": {},
   "outputs": [
    {
     "data": {
      "text/plain": [
       "[10, 1000, 100000, 10000000, 1000000000]"
      ]
     },
     "execution_count": 25,
     "metadata": {},
     "output_type": "execute_result"
    }
   ],
   "source": [
    "[10**power for power in range(10) if power %2 == 1]"
   ]
  },
  {
   "cell_type": "code",
   "execution_count": 29,
   "id": "b2eb1a99-7655-43f2-9176-6ba99ee3bc6f",
   "metadata": {},
   "outputs": [
    {
     "data": {
      "text/plain": [
       "[['Black Widow', 'Natasha Romanoff'],\n",
       " ['Iron Man', 'Tony Stark'],\n",
       " ['Doctor Strange', 'Stephen Strange']]"
      ]
     },
     "execution_count": 29,
     "metadata": {},
     "output_type": "execute_result"
    }
   ],
   "source": [
    "super_names = [\"Black Widow\", \"Iron Man\", \"Doctor Strange\"]\n",
    "real_names = [\"Natasha Romanoff\", \"Tony Stark\", \"Stephen Strange\"]\n",
    "\n",
    "[ [super_names[index],real_names[index]]  for index in range(3)]"
   ]
  },
  {
   "attachments": {},
   "cell_type": "markdown",
   "id": "696f558f",
   "metadata": {},
   "source": [
    "## 2.2 List comprehension with conditions"
   ]
  },
  {
   "cell_type": "code",
   "execution_count": null,
   "id": "607e9706-603e-4a97-959d-81ceeef97fd4",
   "metadata": {},
   "outputs": [],
   "source": []
  },
  {
   "attachments": {},
   "cell_type": "markdown",
   "id": "5ae3676f",
   "metadata": {},
   "source": [
    "# 3 Other useful stuff"
   ]
  },
  {
   "attachments": {},
   "cell_type": "markdown",
   "id": "3b25a06f",
   "metadata": {},
   "source": [
    "## 3.1 for with unpacking"
   ]
  },
  {
   "cell_type": "code",
   "execution_count": 31,
   "id": "4aaae390-098e-4c0d-ad5f-adb90ae3ccf2",
   "metadata": {},
   "outputs": [],
   "source": [
    "x, y, z=[1, 2, [3,0,4,5]]"
   ]
  },
  {
   "cell_type": "code",
   "execution_count": 32,
   "id": "fcf51134-033a-451f-8bdf-73dfb8c93226",
   "metadata": {},
   "outputs": [
    {
     "data": {
      "text/plain": [
       "[3, 0, 4, 5]"
      ]
     },
     "execution_count": 32,
     "metadata": {},
     "output_type": "execute_result"
    }
   ],
   "source": [
    "z"
   ]
  },
  {
   "cell_type": "code",
   "execution_count": null,
   "id": "a2ac0649-6080-4975-b21d-87ab50e53dc0",
   "metadata": {},
   "outputs": [],
   "source": [
    "### Superhero Example"
   ]
  },
  {
   "cell_type": "code",
   "execution_count": 34,
   "id": "6d2b36bd-e870-4fef-9c10-8e9d2aa0b4f2",
   "metadata": {},
   "outputs": [],
   "source": [
    "py_superhero_info = [\n",
    "    ['Natasha Romanoff', 'Black Widow'],\n",
    "   ['Tony Stark', 'Iron Man'],\n",
    "       ['Stephen Strange', 'Doctor Strange']\n",
    "]"
   ]
  },
  {
   "cell_type": "code",
   "execution_count": 35,
   "id": "c93fa9f5-1179-4e67-9e6c-820f608536e7",
   "metadata": {},
   "outputs": [
    {
     "name": "stdout",
     "output_type": "stream",
     "text": [
      "Black Widow is Marvel's Natasha Romanoff!\n",
      "Iron Man is Marvel's Tony Stark!\n",
      "Doctor Strange is Marvel's Stephen Strange!\n"
     ]
    }
   ],
   "source": [
    "for super_name, real_name in py_superhero_info:\n",
    "    print(f\"{real_name} is Marvel's {super_name}!\")"
   ]
  },
  {
   "attachments": {},
   "cell_type": "markdown",
   "id": "08c02ff6",
   "metadata": {},
   "source": [
    "## 3.2 for with zip()"
   ]
  },
  {
   "cell_type": "code",
   "execution_count": 39,
   "id": "84d15330-7acc-40db-8da9-f1b8312056cc",
   "metadata": {},
   "outputs": [
    {
     "name": "stdout",
     "output_type": "stream",
     "text": [
      "Natasha Romanoff is Marvel's Black Widow!\n",
      "Tony Stark is Marvel's Iron Man!\n",
      "Stephen Strange is Marvel's Doctor Strange!\n"
     ]
    }
   ],
   "source": [
    "super_names = [\"Black Widow\", \"Iron Man\", \"Doctor Strange\"]\n",
    "real_names = [\"Natasha Romanoff\", \"Tony Stark\", \"Stephen Strange\"]\n",
    "\n",
    "for super_name, real_name in zip(super_names, real_names):\n",
    "    print(f\"{real_name} is Marvel's {super_name}!\")"
   ]
  },
  {
   "attachments": {},
   "cell_type": "markdown",
   "id": "e73ce2a3",
   "metadata": {},
   "source": [
    "## 3.3 for with dictionaries"
   ]
  },
  {
   "cell_type": "code",
   "execution_count": 40,
   "id": "ada2ce6c-5209-4169-a156-4e2ab18d0100",
   "metadata": {},
   "outputs": [
    {
     "name": "stdout",
     "output_type": "stream",
     "text": [
      "Natasha Romanoff is Marvel's Black Widow!\n",
      "Tony Stark is Marvel's Iron Man!\n",
      "Stephen Strange is Marvel's Doctor Strange!\n"
     ]
    }
   ],
   "source": [
    "superhero_info={\"Natasha Romanoff\": \"Black Widow\",\n",
    "                \"Tony Stark\": \"Iron Man\",\n",
    "                \"Stephen Strange\": \"Doctor Strange\"}\n",
    "\n",
    "# for key, value in superhero_info.items():\n",
    "for real_name, super_name in superhero_info.items():\n",
    "    print(f\"{real_name} is Marvel's {super_name}!\")"
   ]
  },
  {
   "cell_type": "code",
   "execution_count": null,
   "id": "3f8a36b8-9f41-48a1-93ad-10009f399cd8",
   "metadata": {},
   "outputs": [],
   "source": []
  }
 ],
 "metadata": {
  "kernelspec": {
   "display_name": "Python 3 (ipykernel)",
   "language": "python",
   "name": "python3"
  },
  "language_info": {
   "codemirror_mode": {
    "name": "ipython",
    "version": 3
   },
   "file_extension": ".py",
   "mimetype": "text/x-python",
   "name": "python",
   "nbconvert_exporter": "python",
   "pygments_lexer": "ipython3",
   "version": "3.12.3"
  },
  "toc": {
   "base_numbering": 1,
   "nav_menu": {},
   "number_sections": true,
   "sideBar": true,
   "skip_h1_title": false,
   "title_cell": "Table of Contents",
   "title_sidebar": "Contents",
   "toc_cell": false,
   "toc_position": {},
   "toc_section_display": true,
   "toc_window_display": false
  },
  "vscode": {
   "interpreter": {
    "hash": "31f2aee4e71d21fbe5cf8b01ff0e069b9275f58929596ceb00d14d90e3e16cd6"
   }
  }
 },
 "nbformat": 4,
 "nbformat_minor": 5
}
