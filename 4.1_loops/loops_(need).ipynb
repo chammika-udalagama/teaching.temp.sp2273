{
 "cells": [
  {
   "attachments": {},
   "cell_type": "markdown",
   "id": "123456",
   "metadata": {},
   "source": [
    "<div style=\"text-align:left;font-size:2em\"><span style=\"font-weight:bolder;font-size:1.25em\">SP2273 | Learning Portfolio</span><br><br><span style=\"font-weight:bold;color:darkred\">Loops (Need)</span></div>"
   ]
  },
  {
   "attachments": {},
   "cell_type": "markdown",
   "id": "fbb49989",
   "metadata": {},
   "source": [
    "# 1 The for iterator"
   ]
  },
  {
   "cell_type": "code",
   "execution_count": null,
   "id": "c3d9e50a-7bf1-44b3-91fa-f9bef0a1ee95",
   "metadata": {},
   "outputs": [],
   "source": [
    "real_names = [\"Natasha Romanoff\", \"Tony Stark\", \"Stephen Strange\"]"
   ]
  },
  {
   "cell_type": "code",
   "execution_count": null,
   "id": "6c551f26-d7ee-46d2-a7a9-f05bfb4192f5",
   "metadata": {},
   "outputs": [],
   "source": [
    "name=real_names[0]\n",
    "print(f\"{name} is a Great Marvel superhero!\")\n",
    "\n",
    "name=real_names[1]\n",
    "print(f\"{name} is a Great Marvel superhero!\")\n",
    "\n",
    "name=real_names[2]\n",
    "print(f\"{name} is a Great Marvel superhero!\")"
   ]
  },
  {
   "attachments": {},
   "cell_type": "markdown",
   "id": "fd83e53e",
   "metadata": {},
   "source": [
    "## 1.1 for with a list"
   ]
  },
  {
   "cell_type": "code",
   "execution_count": null,
   "id": "d17ce1d9-d681-4b41-be12-6b88856e5405",
   "metadata": {},
   "outputs": [],
   "source": [
    "for name in [\"Natasha Romanoff\", \"Tony Stark\", \"Stephen Strange\"]:\n",
    "    print(f\"{name.upper()} is a Great Marvel superhero! Yeah!\")\n",
    "    print('-'*50)"
   ]
  },
  {
   "cell_type": "code",
   "execution_count": null,
   "id": "6c8e7236-0533-40e9-abc8-c9e0c86ae968",
   "metadata": {},
   "outputs": [],
   "source": [
    "for x in [\"Natasha Romanoff\", \"Tony Stark\", \"Stephen Strange\"]:\n",
    "    print(f\"{x.upper()} is a Great Marvel superhero! Yeah!\")\n",
    "    print('-'*50)"
   ]
  },
  {
   "cell_type": "markdown",
   "id": "6c1ff214-8aee-4f32-84b0-881fa09c68b1",
   "metadata": {},
   "source": [
    "Naming variables"
   ]
  },
  {
   "cell_type": "code",
   "execution_count": null,
   "id": "1d2d1d1d-6f7d-4698-a8f4-56ae446d487a",
   "metadata": {},
   "outputs": [],
   "source": []
  },
  {
   "attachments": {},
   "cell_type": "markdown",
   "id": "be39c685",
   "metadata": {},
   "source": [
    "## 1.2 for with enumerate"
   ]
  },
  {
   "cell_type": "code",
   "execution_count": null,
   "id": "2d5d2409-ec08-411d-b2aa-552a35c4874b",
   "metadata": {},
   "outputs": [],
   "source": [
    "super_names = [\"Black Widow\", \"Iron Man\", \"Doctor Strange\"]\n",
    "real_names = [\"Natasha Romanoff\", \"Tony Stark\", \"Stephen Strange\"]"
   ]
  },
  {
   "cell_type": "markdown",
   "id": "1d3840e9-321c-4b3a-bba5-d26da8d22df7",
   "metadata": {},
   "source": [
    "Basic Use"
   ]
  },
  {
   "cell_type": "code",
   "execution_count": null,
   "id": "63d701e7-812c-4ea2-8a73-062cfe365677",
   "metadata": {},
   "outputs": [],
   "source": [
    "count =1\n",
    "for name in real_names:\n",
    "    print(f\"{count}: {name.upper()} is a Great Marvel superhero! Yeah!\")\n",
    "    count += 1"
   ]
  },
  {
   "cell_type": "code",
   "execution_count": null,
   "id": "f24153af-b8d4-43a3-887a-012b1353a5c5",
   "metadata": {},
   "outputs": [],
   "source": [
    "for count, name in enumerate(real_names, start=100):\n",
    "    print(f\"{count}: {name.upper()} is a Great Marvel superhero! Yeah!\")"
   ]
  },
  {
   "cell_type": "markdown",
   "id": "47b3909f-0488-427d-8524-cf7672544dc7",
   "metadata": {},
   "source": [
    "Used to combine info from different lists"
   ]
  },
  {
   "cell_type": "code",
   "execution_count": null,
   "id": "cc8ca326-0de1-4e56-81dc-feae82b6e765",
   "metadata": {},
   "outputs": [],
   "source": [
    "super_names = [\"Black Widow\", \"Iron Man\", \"Doctor Strange\"]\n",
    "real_names = [\"Natasha Romanoff\", \"Tony Stark\", \"Stephen Strange\"]\n",
    "universe = ['Marvel']*3"
   ]
  },
  {
   "cell_type": "code",
   "execution_count": null,
   "id": "b391dc3b-4eb4-4dec-9cd7-a00d2489825f",
   "metadata": {},
   "outputs": [],
   "source": [
    "for index, real_name in enumerate(real_names):\n",
    "    print(real_name,'---->', super_names[index],'----->',universe[index])"
   ]
  },
  {
   "cell_type": "markdown",
   "id": "6d827b07-4df1-4931-a4fc-67b0404d1a98",
   "metadata": {},
   "source": [
    "You can start countng at any number"
   ]
  },
  {
   "cell_type": "code",
   "execution_count": null,
   "id": "0a83d43e-c5bb-4dd0-854d-c859edb181ee",
   "metadata": {},
   "outputs": [],
   "source": [
    "for index in range(3):\n",
    "    print(real_names[index],'---->', super_names[index],'----->',universe[index])"
   ]
  },
  {
   "cell_type": "code",
   "execution_count": null,
   "id": "1579653f-f881-4b11-a8c0-a577239fe494",
   "metadata": {},
   "outputs": [],
   "source": [
    "list(range(3))"
   ]
  },
  {
   "attachments": {},
   "cell_type": "markdown",
   "id": "0ea904f5",
   "metadata": {},
   "source": [
    "## 1.3 for with range"
   ]
  },
  {
   "cell_type": "markdown",
   "id": "7e925fe3-eb4f-4f27-923b-f9013092edcc",
   "metadata": {},
   "source": [
    "### Example 1"
   ]
  },
  {
   "cell_type": "code",
   "execution_count": null,
   "id": "5ff47be9-39b8-4a00-9383-5f530b664150",
   "metadata": {},
   "outputs": [],
   "source": []
  },
  {
   "cell_type": "markdown",
   "id": "dd72a2a7-07eb-4dc8-b6bf-bfe68770744e",
   "metadata": {},
   "source": [
    "### Example 2"
   ]
  },
  {
   "cell_type": "code",
   "execution_count": null,
   "id": "b0b0f613-3c98-466f-87a1-ed86618736dc",
   "metadata": {},
   "outputs": [],
   "source": []
  },
  {
   "cell_type": "markdown",
   "id": "2d072245-8130-4498-9423-92798de8f934",
   "metadata": {},
   "source": [
    "### Example 3"
   ]
  },
  {
   "cell_type": "code",
   "execution_count": null,
   "id": "c9d50d2b-5fda-4b71-b7a3-ffcafb0b96d5",
   "metadata": {},
   "outputs": [],
   "source": []
  },
  {
   "attachments": {},
   "cell_type": "markdown",
   "id": "a9aad59d",
   "metadata": {},
   "source": [
    "# 2 while"
   ]
  },
  {
   "cell_type": "code",
   "execution_count": null,
   "id": "b34e15ea-a3f8-45cd-a5c6-1c69d8c6878d",
   "metadata": {},
   "outputs": [],
   "source": [
    "number = 0\n",
    "\n",
    "while number < 5:\n",
    "    print(number)\n",
    "    number += 1"
   ]
  },
  {
   "cell_type": "code",
   "execution_count": null,
   "id": "346ba2d5-7cdd-4859-89a4-28d85b850957",
   "metadata": {},
   "outputs": [],
   "source": [
    "while True:\n",
    "    print('Hahaha')"
   ]
  },
  {
   "cell_type": "code",
   "execution_count": null,
   "id": "2cb01ce1-704b-4e8f-938d-69cc9d2f14de",
   "metadata": {},
   "outputs": [],
   "source": []
  }
 ],
 "metadata": {
  "kernelspec": {
   "display_name": "Python 3 (ipykernel)",
   "language": "python",
   "name": "python3"
  },
  "language_info": {
   "codemirror_mode": {
    "name": "ipython",
    "version": 3
   },
   "file_extension": ".py",
   "mimetype": "text/x-python",
   "name": "python",
   "nbconvert_exporter": "python",
   "pygments_lexer": "ipython3",
   "version": "3.12.3"
  },
  "toc": {
   "base_numbering": 1,
   "nav_menu": {},
   "number_sections": true,
   "sideBar": true,
   "skip_h1_title": false,
   "title_cell": "Table of Contents",
   "title_sidebar": "Contents",
   "toc_cell": false,
   "toc_position": {},
   "toc_section_display": true,
   "toc_window_display": false
  },
  "vscode": {
   "interpreter": {
    "hash": "31f2aee4e71d21fbe5cf8b01ff0e069b9275f58929596ceb00d14d90e3e16cd6"
   }
  }
 },
 "nbformat": 4,
 "nbformat_minor": 5
}
