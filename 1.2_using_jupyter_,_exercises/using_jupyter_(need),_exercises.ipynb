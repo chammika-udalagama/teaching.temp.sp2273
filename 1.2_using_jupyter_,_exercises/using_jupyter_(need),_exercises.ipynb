{
 "cells": [
  {
   "attachments": {},
   "cell_type": "markdown",
   "id": "123456",
   "metadata": {},
   "source": [
    "<div style=\"text-align:left;font-size:2em\"><span style=\"font-weight:bolder;font-size:1.25em\">SP2273 | Learning Portfolio</span><br><br><span style=\"font-weight:bold;color:darkred\">Using Jupyter (Need), Exercises</span></div>"
   ]
  },
  {
   "attachments": {},
   "cell_type": "markdown",
   "id": "888ae234",
   "metadata": {},
   "source": [
    "## 1 Quadratic Equations"
   ]
  },
  {
   "attachments": {},
   "cell_type": "markdown",
   "id": "f7920161",
   "metadata": {},
   "source": [
    "### Introduction"
   ]
  },
  {
   "cell_type": "markdown",
   "id": "7ee7f335-0c19-408c-ad41-4894c5a3bf6d",
   "metadata": {},
   "source": [
    "$$\\mu = \\frac{1}{n} \\sum_{i=1}^{n}x_i$$\n",
    "$$\\mu = \\frac{1}{n} \\sum_{i=1}^{n}x_i$$"
   ]
  },
  {
   "attachments": {},
   "cell_type": "markdown",
   "id": "3675248e",
   "metadata": {},
   "source": [
    "### Solutions"
   ]
  },
  {
   "cell_type": "markdown",
   "id": "45a1da7d-0326-4014-bb57-f2245abe8d24",
   "metadata": {},
   "source": [
    "$$\\\\mu = \\\\frac{1}{n} \\\\sum_{i=1}^{n}x_i\\\\tag{1}\\n\",$$\n",
    "$$\\n\",\n",
    "\\\\sigma= \\\\sqrt{\\\\frac{1}{n}\\\\sum_{i=1}^{n}(x_i - \\\\mu)^2)}\\\\tag{2}  \\n\",\n",
    "\"$$$$\\n\",\n",
    "\"r = \\\\frac{\\\\sum_{i=1}^{n}(x_i - \\\\mu_X)(y_i - \\\\mu_Y)}{\\\\sqrt{\\\\sum_{i=1}^{n}(x_i - \\\\mu_X)^2\\\\sum_{i=1}^{n}(y_i - \\\\mu_Y)^2}}\\\\tag{3}\\n\",    \"$$\\n\","
   ]
  },
  {
   "attachments": {},
   "cell_type": "markdown",
   "id": "57a2b7f3",
   "metadata": {},
   "source": [
    "### Discriminant"
   ]
  },
  {
   "cell_type": "code",
   "execution_count": null,
   "id": "a2186331",
   "metadata": {},
   "outputs": [],
   "source": [
    "\n",
    "# Your code here\n"
   ]
  }
 ],
 "metadata": {
  "kernelspec": {
   "display_name": "Python 3 (ipykernel)",
   "language": "python",
   "name": "python3"
  },
  "language_info": {
   "codemirror_mode": {
    "name": "ipython",
    "version": 3
   },
   "file_extension": ".py",
   "mimetype": "text/x-python",
   "name": "python",
   "nbconvert_exporter": "python",
   "pygments_lexer": "ipython3",
   "version": "3.11.8"
  },
  "toc": {
   "base_numbering": 1,
   "nav_menu": {},
   "number_sections": true,
   "sideBar": true,
   "skip_h1_title": false,
   "title_cell": "Table of Contents",
   "title_sidebar": "Contents",
   "toc_cell": false,
   "toc_position": {},
   "toc_section_display": true,
   "toc_window_display": false
  },
  "vscode": {
   "interpreter": {
    "hash": "31f2aee4e71d21fbe5cf8b01ff0e069b9275f58929596ceb00d14d90e3e16cd6"
   }
  }
 },
 "nbformat": 4,
 "nbformat_minor": 5
}
