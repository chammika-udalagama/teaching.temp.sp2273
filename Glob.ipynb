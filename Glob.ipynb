{
 "cells": [
  {
   "cell_type": "code",
   "execution_count": 16,
   "id": "67f9d9bc-034f-4fe3-9c84-4c9c2dd37b16",
   "metadata": {},
   "outputs": [],
   "source": [
    "import glob, os"
   ]
  },
  {
   "cell_type": "code",
   "execution_count": 27,
   "id": "30b20c55-2f93-421b-a4ab-a30c34b91cd2",
   "metadata": {},
   "outputs": [
    {
     "data": {
      "text/plain": [
       "['0.1_hello,_github!',\n",
       " '0.2_hello,_jupyter!',\n",
       " '0.3_Virtual_Environments_(Nice!)',\n",
       " '1.1_using_jupyter',\n",
       " '1.2_using_jupyter_,_exercises',\n",
       " '2.1_fundamentals',\n",
       " '2.2_fundamentals__exercises',\n",
       " '3.1_storing_data',\n",
       " '3.2_storing_data__exercises',\n",
       " '4.1_loops',\n",
       " '4.2_loops__exercises',\n",
       " '5.1_functions',\n",
       " '5.2_functions__exercises',\n",
       " '6.1_files,_folders_&_os',\n",
       " '6.2_files,_folders_&_os__exercises',\n",
       " '7.1_plotting',\n",
       " '7.2_plotting__exercises',\n",
       " 'Glob.ipynb',\n",
       " 'LICENSE',\n",
       " 'README.md',\n",
       " 'hello,_github!_(need).ipynb',\n",
       " 'hello,_jupyter!_(need).ipynb',\n",
       " 'virtual_environments_(nice!).ipynb',\n",
       " 'jupyter_need_2.ipynb',\n",
       " 'using_jupyter_(good).ipynb',\n",
       " 'using_jupyter_(need).ipynb',\n",
       " 'using_jupyter_(good),_exercises.ipynb',\n",
       " 'using_jupyter_(need),_exercises.ipynb',\n",
       " 'fundamentals_(good).ipynb',\n",
       " 'fundamentals_(need).ipynb',\n",
       " 'fundamentals_(nice).ipynb',\n",
       " 'fundamentals_(good)_exercises.ipynb',\n",
       " 'fundamentals_(need)_exercises.ipynb',\n",
       " 'storing_data_(good).ipynb',\n",
       " 'storing_data_(need).ipynb',\n",
       " 'storing_data_(good)_exercises.ipynb',\n",
       " 'storing_data_(need)_exercises.ipynb',\n",
       " 'loops_(good).ipynb',\n",
       " 'loops_(need).ipynb',\n",
       " 'loops_(nice).ipynb',\n",
       " 'loops_(good)_exercises.ipynb',\n",
       " 'loops_(need)_exercises.ipynb',\n",
       " 'functions_(good).ipynb',\n",
       " 'functions_(need).ipynb',\n",
       " 'functions_(nice).ipynb',\n",
       " 'my-text-lines.txt',\n",
       " 'functions_(good)_exercises.ipynb',\n",
       " 'functions_(need)_exercises.ipynb',\n",
       " 'data-files',\n",
       " 'files,_folders_&_os_(need).ipynb',\n",
       " 'hahaha.txt',\n",
       " 'not-there.txt',\n",
       " 'spectrum-01.txt',\n",
       " 'files,_folders_&_os_(need)_exercises.ipynb',\n",
       " 'plotting_(good).ipynb',\n",
       " 'plotting_(need).ipynb',\n",
       " 'plotting_(good)_exercises.ipynb',\n",
       " 'plotting_(need)_exercises.ipynb']"
      ]
     },
     "execution_count": 27,
     "metadata": {},
     "output_type": "execute_result"
    }
   ],
   "source": [
    "all_files= glob.glob('**\\\\*', recursive=True) #Glob is in the learning portfolio directory. \n",
    "#all_files = glob.glob(\"..\\\\**\\*\", recursive = True) Use this if your jupyter notebook is inside a folder\n",
    "                                                                            #within the learning portfolio\n",
    " \n",
    "[os.path.split(file)[-1] for file in all_files]"
   ]
  },
  {
   "cell_type": "code",
   "execution_count": 23,
   "id": "a7698ed6-3afc-4d5d-aa7c-10222a71afda",
   "metadata": {},
   "outputs": [],
   "source": [
    "os.remove('6.1_files,_folders_&_os/data-files/hahaha.txt')"
   ]
  },
  {
   "cell_type": "code",
   "execution_count": 22,
   "id": "9d660c55-0b0d-4d47-8799-013cbcc54eaf",
   "metadata": {},
   "outputs": [
    {
     "ename": "OSError",
     "evalue": "[WinError 145] The directory is not empty: '6.1_files,_folders_&_os/data-files'",
     "output_type": "error",
     "traceback": [
      "\u001b[1;31m---------------------------------------------------------------------------\u001b[0m",
      "\u001b[1;31mOSError\u001b[0m                                   Traceback (most recent call last)",
      "Cell \u001b[1;32mIn[22], line 1\u001b[0m\n\u001b[1;32m----> 1\u001b[0m \u001b[43mos\u001b[49m\u001b[38;5;241;43m.\u001b[39;49m\u001b[43mrmdir\u001b[49m\u001b[43m(\u001b[49m\u001b[38;5;124;43m'\u001b[39;49m\u001b[38;5;124;43m6.1_files,_folders_&_os/data-files\u001b[39;49m\u001b[38;5;124;43m'\u001b[39;49m\u001b[43m)\u001b[49m\n",
      "\u001b[1;31mOSError\u001b[0m: [WinError 145] The directory is not empty: '6.1_files,_folders_&_os/data-files'"
     ]
    }
   ],
   "source": [
    "os.rmdir('6.1_files,_folders_&_os/data-files')"
   ]
  },
  {
   "cell_type": "code",
   "execution_count": null,
   "id": "34847fd6-81ca-4533-8c99-1445d200d6fe",
   "metadata": {},
   "outputs": [],
   "source": []
  }
 ],
 "metadata": {
  "kernelspec": {
   "display_name": "Python 3 (ipykernel)",
   "language": "python",
   "name": "python3"
  },
  "language_info": {
   "codemirror_mode": {
    "name": "ipython",
    "version": 3
   },
   "file_extension": ".py",
   "mimetype": "text/x-python",
   "name": "python",
   "nbconvert_exporter": "python",
   "pygments_lexer": "ipython3",
   "version": "3.12.3"
  }
 },
 "nbformat": 4,
 "nbformat_minor": 5
}
