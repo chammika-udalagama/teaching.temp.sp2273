{
 "cells": [
  {
   "attachments": {},
   "cell_type": "markdown",
   "id": "123456",
   "metadata": {},
   "source": [
    "<div style=\"text-align:left;font-size:2em\"><span style=\"font-weight:bolder;font-size:1.25em\">SP2273 | Learning Portfolio</span><br><br><span style=\"font-weight:bold;color:darkred\">Storing Data (Need)</span></div>"
   ]
  },
  {
   "cell_type": "code",
   "execution_count": null,
   "id": "63c6a235-4455-40af-ba1b-8ca98f1483cb",
   "metadata": {},
   "outputs": [],
   "source": [
    "import numpy as np"
   ]
  },
  {
   "attachments": {},
   "cell_type": "markdown",
   "id": "bb7d6c3f",
   "metadata": {},
   "source": [
    "# 1 Lists, Arrays & Dictionaries"
   ]
  },
  {
   "attachments": {},
   "cell_type": "markdown",
   "id": "4a01c595",
   "metadata": {},
   "source": [
    "## 1.1 Let’s compare"
   ]
  },
  {
   "cell_type": "markdown",
   "id": "3d4000bf-8fc7-4a48-94b2-4a34426c6cda",
   "metadata": {},
   "source": [
    "### Python Lists"
   ]
  },
  {
   "cell_type": "code",
   "execution_count": null,
   "id": "aa5aef9a-60f6-4c0e-8631-49a3e1ae6d38",
   "metadata": {},
   "outputs": [],
   "source": [
    "py_super_names = [\"Black Widow\", \"Iron Man\", \"Doctor Strange\"]\n",
    "py_real_names = [\"Natasha Romanoff\", \"Tony Stark\", \"Stephen Strange\"]"
   ]
  },
  {
   "cell_type": "code",
   "execution_count": null,
   "id": "4fa4ee4d-b7aa-4d35-ae49-c30ea70ffef0",
   "metadata": {},
   "outputs": [],
   "source": [
    "np_super_names = np.array([\"Black Widow\", \"Iron Man\", \"Doctor Strange\"])\n",
    "np_real_names = np.array([\"Natasha Romanoff\", \"Tony Stark\", \"Stephen Strange\"])"
   ]
  },
  {
   "cell_type": "code",
   "execution_count": null,
   "id": "6a2cd2d1-d2a8-4b33-ab2f-5d31fd50ef9f",
   "metadata": {},
   "outputs": [],
   "source": [
    "superhero_info = {\n",
    "    \"Natasha Romanoff\": \"Black Widow\",\n",
    "    \"Tony Stark\": \"Iron Man\",\n",
    "    \"Stephen Strange\": \"Doctor Strange\"\n",
    "}"
   ]
  },
  {
   "attachments": {},
   "cell_type": "markdown",
   "id": "1c90fecf",
   "metadata": {},
   "source": [
    "## 1.2 Accessing data from a list (or array)"
   ]
  },
  {
   "cell_type": "markdown",
   "id": "c7b785a0-1c77-4e67-8620-7f244df3d99b",
   "metadata": {},
   "source": [
    "![](https://sps.nus.edu.sg/sp2273/docs/python_basics/03_storing-data/python-zero-indexed-counting.png)"
   ]
  },
  {
   "cell_type": "code",
   "execution_count": null,
   "id": "d3a7497b-1453-4deb-99a7-b8b48d499065",
   "metadata": {},
   "outputs": [],
   "source": [
    "py_super_names = [\"Black Widow\", \"Iron Man\", \"Doctor Strange\"]\n",
    "py_real_names = [\"Natasha Romanoff\", \"Tony Stark\", \"Stephen Strange\"]"
   ]
  },
  {
   "cell_type": "code",
   "execution_count": null,
   "id": "66af8725-0b2f-4f4a-8d6d-7bbf9bec47fa",
   "metadata": {},
   "outputs": [],
   "source": [
    "np_super_names[1] = 'ildsgfilsgfdbgsfdgsa'"
   ]
  },
  {
   "cell_type": "markdown",
   "id": "3f87eee9-5760-4904-b9bf-400838012227",
   "metadata": {},
   "source": [
    "### Example 1"
   ]
  },
  {
   "cell_type": "code",
   "execution_count": null,
   "id": "a70e2f26-54d1-48fb-913d-67d717dee75b",
   "metadata": {},
   "outputs": [],
   "source": [
    "py_super_names[-1]"
   ]
  },
  {
   "cell_type": "markdown",
   "id": "6b6b5e73-fbaa-4d05-bfb0-9a79e7e8076e",
   "metadata": {},
   "source": [
    "### Example 2"
   ]
  },
  {
   "cell_type": "markdown",
   "id": "a4356e50-b1a7-4afe-a7cc-82bbb8d2c3b4",
   "metadata": {},
   "source": []
  },
  {
   "cell_type": "markdown",
   "id": "1ee531b3-2311-4c4f-9a48-983f909e4eb5",
   "metadata": {},
   "source": [
    "### Example 3"
   ]
  },
  {
   "cell_type": "code",
   "execution_count": null,
   "id": "4d58d008-e3c7-4dd2-a6c1-91fc1db7cb85",
   "metadata": {},
   "outputs": [],
   "source": []
  },
  {
   "cell_type": "markdown",
   "id": "8fe25a30-b611-49c6-84e4-2e0e4712bf5f",
   "metadata": {},
   "source": [
    "### Example 4"
   ]
  },
  {
   "cell_type": "markdown",
   "id": "f19bba67-a987-44bf-9555-8ddd30f04544",
   "metadata": {},
   "source": []
  },
  {
   "cell_type": "markdown",
   "id": "4d68ab92-cce3-4b76-9554-d31d1f6c5d54",
   "metadata": {},
   "source": [
    "### Example 5"
   ]
  },
  {
   "cell_type": "markdown",
   "id": "2049d446-f183-410d-b0dd-5e87a59b7843",
   "metadata": {},
   "source": []
  },
  {
   "cell_type": "markdown",
   "id": "be84448b-9f48-45ab-8431-9fa394937d6d",
   "metadata": {},
   "source": [
    "### Example 6"
   ]
  },
  {
   "cell_type": "markdown",
   "id": "4ebebbef-38c1-41fb-8d59-4f89387b61ce",
   "metadata": {},
   "source": []
  },
  {
   "attachments": {},
   "cell_type": "markdown",
   "id": "414cc5fc",
   "metadata": {},
   "source": [
    "## 1.3 Accessing data from a dictionary"
   ]
  },
  {
   "cell_type": "code",
   "execution_count": null,
   "id": "7ce9c2a1-e83e-468b-b57a-d958a4177357",
   "metadata": {},
   "outputs": [],
   "source": [
    "superhero_info = {\n",
    "    \"Natasha Romanoff\": \"Black Widow\",\n",
    "    \"Tony Stark\": \"Iron Man\",\n",
    "    \"Stephen Strange\": \"Doctor Strange\"\n",
    "}"
   ]
  },
  {
   "cell_type": "code",
   "execution_count": null,
   "id": "71007d5b-d9ed-435c-bb90-073f0e8fc06e",
   "metadata": {},
   "outputs": [],
   "source": [
    "superhero_info['Peter PArker']='Spider Man'"
   ]
  },
  {
   "cell_type": "code",
   "execution_count": null,
   "id": "9bedaab9-73cd-4ee1-bd5b-24d9432f16c8",
   "metadata": {},
   "outputs": [],
   "source": [
    "superhero_info"
   ]
  },
  {
   "attachments": {},
   "cell_type": "markdown",
   "id": "bc18f6e3",
   "metadata": {},
   "source": [
    "## 1.4 Higher dimensional lists"
   ]
  },
  {
   "cell_type": "code",
   "execution_count": null,
   "id": "04ff3bd7-a424-477f-841b-df09b9a4555a",
   "metadata": {},
   "outputs": [],
   "source": [
    "superhero_info.values()"
   ]
  },
  {
   "cell_type": "code",
   "execution_count": null,
   "id": "fbfedbbe-d7d0-43d3-9a95-f0ae854f585a",
   "metadata": {},
   "outputs": [],
   "source": [
    "py_super_names = [\"Black Widow\", \"Iron Man\", \"Doctor Strange\"]\n",
    "py_real_names = [\"Natasha Romanoff\", \"Tony Stark\", \"Stephen Strange\"]"
   ]
  },
  {
   "cell_type": "code",
   "execution_count": null,
   "id": "01fdb077-4bf5-442e-ba7b-aad85b0588db",
   "metadata": {},
   "outputs": [],
   "source": [
    "py_superhero_info = [['Natasha Romanoff', 'Black Widow'],\n",
    "                     ['Tony Stark', 'Iron Man'],\n",
    "                     ['Stephen Strange', 'Doctor Strange']]"
   ]
  },
  {
   "cell_type": "code",
   "execution_count": null,
   "id": "e878fe16-23ec-447e-b801-e6a8806b6b87",
   "metadata": {},
   "outputs": [],
   "source": [
    "superhero_info = {\n",
    "    \"Natasha Romanoff\": \"Marvel\",\n",
    "    \"Tony Stark\": \"Marvel\",\n",
    "    \"Stephen Strange\": \"Marvel\",\n",
    "    \"Bruce\":\"DC\"\n",
    "}"
   ]
  },
  {
   "attachments": {},
   "cell_type": "markdown",
   "id": "a0a60533",
   "metadata": {},
   "source": [
    "# 2 Lists vs. Arrays"
   ]
  },
  {
   "cell_type": "code",
   "execution_count": null,
   "id": "1dc1ba3d-fa20-4b82-b471-0da17d0f3888",
   "metadata": {},
   "outputs": [],
   "source": [
    "py_list_2d = [[1, \"A\"], [2, \"B\"], [3, \"C\"], [4, \"D\"],\n",
    "              [5, \"E\"], [6, \"F\"], [7, \"G\"], [8, \"H\"],\n",
    "              [9, \"I\"], [10, \"J\",\"Hahaha\"]]\n",
    "\n",
    "np_array_2d = np.array(py_list_2d)      # Reusing the Python list \n",
    "                                        # to create a NEW\n",
    "                                        # NumPy array"
   ]
  },
  {
   "cell_type": "code",
   "execution_count": null,
   "id": "5c165c8a-b59b-48b0-aa94-e15a771ffd5e",
   "metadata": {},
   "outputs": [],
   "source": [
    "py_list_2d"
   ]
  },
  {
   "cell_type": "code",
   "execution_count": null,
   "id": "5ff9e9e6-4390-4d21-a5f4-3db46411cef9",
   "metadata": {},
   "outputs": [],
   "source": [
    "py_list_2d = [[1, \"A\"], [2, \"B\"], [3, \"C\"], [4, \"D\"],\n",
    "              [5, \"E\"], [6, \"F\"], [7, \"G\"], [8, \"H\"],\n",
    "              [9, \"I\"], [10, \"J\",\"Hahaha\"]]\n",
    "\n",
    "py_list_2d"
   ]
  },
  {
   "attachments": {},
   "cell_type": "markdown",
   "id": "b8419e6c",
   "metadata": {},
   "source": [
    "## 2.1 Size"
   ]
  },
  {
   "cell_type": "code",
   "execution_count": null,
   "id": "34aec926-5e2d-4039-be58-d1a7c45f344c",
   "metadata": {},
   "outputs": [],
   "source": [
    "len(py_list_2d)"
   ]
  },
  {
   "cell_type": "code",
   "execution_count": null,
   "id": "0f42136f-ea10-4963-9442-520e84501dab",
   "metadata": {},
   "outputs": [],
   "source": [
    "len(np_array_2d)"
   ]
  },
  {
   "cell_type": "code",
   "execution_count": null,
   "id": "c1bb1ba1-21b0-4bed-9d0a-d77b7ec58901",
   "metadata": {},
   "outputs": [],
   "source": [
    "'hahaha'.upper()"
   ]
  },
  {
   "cell_type": "code",
   "execution_count": null,
   "id": "117f0a61-ad51-4809-9d21-9d10641ce6ad",
   "metadata": {},
   "outputs": [],
   "source": [
    "np_array_2d.shape"
   ]
  },
  {
   "cell_type": "code",
   "execution_count": null,
   "id": "9453f59b-a6d3-4952-a29e-703107935997",
   "metadata": {},
   "outputs": [],
   "source": []
  },
  {
   "attachments": {},
   "cell_type": "markdown",
   "id": "a14465be",
   "metadata": {},
   "source": [
    "## 2.2 Arrays are fussy about type"
   ]
  },
  {
   "cell_type": "code",
   "execution_count": null,
   "id": "515309af-f03c-4f01-aa71-4c9bac4416a0",
   "metadata": {},
   "outputs": [],
   "source": [
    "py_list = [1, 1.5, 'A']\n",
    "np_array = np.array(py_list)"
   ]
  },
  {
   "attachments": {},
   "cell_type": "markdown",
   "id": "08717378",
   "metadata": {},
   "source": [
    "## 2.3 Adding a number"
   ]
  },
  {
   "cell_type": "markdown",
   "id": "6a1a4eb6-e12f-4eac-a841-d46a8a845817",
   "metadata": {},
   "source": [
    "### <span style=\"color:darkorange\">List</span>"
   ]
  },
  {
   "cell_type": "code",
   "execution_count": null,
   "id": "10b90d69-cda3-4c50-8b41-488f5e41e576",
   "metadata": {},
   "outputs": [],
   "source": [
    "py_list"
   ]
  },
  {
   "cell_type": "markdown",
   "id": "efdfc7c9-335f-48c2-a696-754b976e584f",
   "metadata": {},
   "source": [
    "### <span style=\"color:darkred\">Arrays</span>"
   ]
  },
  {
   "cell_type": "code",
   "execution_count": null,
   "id": "80a6396d-a44b-4d4b-866b-cae200b93469",
   "metadata": {},
   "outputs": [],
   "source": [
    "np_array"
   ]
  },
  {
   "cell_type": "code",
   "execution_count": null,
   "id": "aadbe752-efd0-4da9-9ddc-3ee44f3fc81a",
   "metadata": {},
   "outputs": [],
   "source": []
  },
  {
   "attachments": {},
   "cell_type": "markdown",
   "id": "6d92e065",
   "metadata": {},
   "source": [
    "## 2.4 Adding another list"
   ]
  },
  {
   "cell_type": "code",
   "execution_count": null,
   "id": "df27df3f-35ee-41ea-96a3-0888413494af",
   "metadata": {},
   "outputs": [],
   "source": [
    "py_list = [1, 2, 3, 4, 5]\n",
    "np_array = np.array(py_list)         # Reusing the Python list\n",
    "                                     # to create a NEW\n",
    "                                     # NumPy array"
   ]
  },
  {
   "cell_type": "markdown",
   "id": "11f79a25-80a3-4eeb-a057-1c2dda7ee15e",
   "metadata": {},
   "source": [
    "### <span style=\"color:darkorange\">List</span>"
   ]
  },
  {
   "cell_type": "code",
   "execution_count": null,
   "id": "856ddd7a-653a-4b19-8271-12c1f7263b7e",
   "metadata": {},
   "outputs": [],
   "source": [
    "[1,2]**2"
   ]
  },
  {
   "cell_type": "markdown",
   "id": "fd7fe421-49bf-4e53-8c5a-5e2f40f7ffec",
   "metadata": {},
   "source": [
    "### <span style=\"color:darkred\">Arrays</span>"
   ]
  },
  {
   "cell_type": "code",
   "execution_count": null,
   "id": "518622ab-1371-455e-a228-211ca945ea41",
   "metadata": {},
   "outputs": [],
   "source": [
    "np_array ** 2"
   ]
  },
  {
   "attachments": {},
   "cell_type": "markdown",
   "id": "717dc26d",
   "metadata": {},
   "source": [
    "## 2.5 Multiplying by a Number"
   ]
  },
  {
   "cell_type": "markdown",
   "id": "6ae20578-94e7-4c88-b695-0c0ad2e76b77",
   "metadata": {},
   "source": [
    "### <span style=\"color:darkorange\">List</span>"
   ]
  },
  {
   "cell_type": "code",
   "execution_count": null,
   "id": "d5635f42-95a0-4ccc-8156-75539befaaf7",
   "metadata": {},
   "outputs": [],
   "source": []
  },
  {
   "cell_type": "markdown",
   "id": "87c55a85-5a32-45e7-bb1f-753eac7629e4",
   "metadata": {},
   "source": [
    "### <span style=\"color:darkred\">Arrays</span>"
   ]
  },
  {
   "cell_type": "code",
   "execution_count": null,
   "id": "69763d03-ffae-45fe-8377-089e440dc887",
   "metadata": {},
   "outputs": [],
   "source": []
  },
  {
   "attachments": {},
   "cell_type": "markdown",
   "id": "aced6faa",
   "metadata": {},
   "source": [
    "## 2.6 Squaring"
   ]
  },
  {
   "cell_type": "markdown",
   "id": "b45b70e3-d2cf-4123-b347-b98af2eec099",
   "metadata": {},
   "source": [
    "### <span style=\"color:darkorange\">List</span>"
   ]
  },
  {
   "cell_type": "code",
   "execution_count": null,
   "id": "de2d3524-9f03-4215-b322-83517a6a40b8",
   "metadata": {},
   "outputs": [],
   "source": []
  },
  {
   "cell_type": "markdown",
   "id": "e9317e4f-3d93-4772-b2ed-8a284d781653",
   "metadata": {},
   "source": [
    "### <span style=\"color:darkred\">Arrays</span>"
   ]
  },
  {
   "cell_type": "code",
   "execution_count": null,
   "id": "8d1dc2d6-bf09-4926-9c6e-794bd640c6b2",
   "metadata": {},
   "outputs": [],
   "source": []
  },
  {
   "attachments": {},
   "cell_type": "markdown",
   "id": "3a8704cb",
   "metadata": {},
   "source": [
    "## 2.7 Asking questions"
   ]
  },
  {
   "cell_type": "code",
   "execution_count": null,
   "id": "a3dab0e6-dbce-44b4-8602-8a03510ebed3",
   "metadata": {},
   "outputs": [],
   "source": [
    "py_list = [1, 2, 3, 4, 5]\n",
    "np_array = np.array(py_list)         "
   ]
  },
  {
   "cell_type": "code",
   "execution_count": null,
   "id": "ef0c92b5-eb21-4ec4-bedb-0680b4549e23",
   "metadata": {},
   "outputs": [],
   "source": [
    "py_list == 3     # Works, but what IS the question?"
   ]
  },
  {
   "cell_type": "code",
   "execution_count": null,
   "id": "0d2f0768-7958-45f8-b535-f9398ac132ad",
   "metadata": {},
   "outputs": [],
   "source": [
    "np_array == 3  "
   ]
  },
  {
   "cell_type": "code",
   "execution_count": null,
   "id": "4d87b173-a264-451f-a663-b3231b21a773",
   "metadata": {},
   "outputs": [],
   "source": [
    "np_array > 3  "
   ]
  },
  {
   "cell_type": "markdown",
   "id": "8e566a8d-e2d8-41fe-8b1f-afd51305aefd",
   "metadata": {},
   "source": [
    "### <span style=\"color:darkorange\">List</span>"
   ]
  },
  {
   "cell_type": "code",
   "execution_count": null,
   "id": "1329622f-4969-4b81-98cf-e2ec3c4969b2",
   "metadata": {},
   "outputs": [],
   "source": []
  },
  {
   "cell_type": "markdown",
   "id": "1e67a0f2-5f8f-4b22-9dee-bc9e56912c49",
   "metadata": {},
   "source": [
    "### <span style=\"color:darkred\">Arrays</span>"
   ]
  },
  {
   "cell_type": "code",
   "execution_count": null,
   "id": "867ae0d6-af22-4065-9717-1422d1694187",
   "metadata": {},
   "outputs": [],
   "source": []
  },
  {
   "attachments": {},
   "cell_type": "markdown",
   "id": "e1b730d9",
   "metadata": {},
   "source": [
    "## 2.8 Mathematics"
   ]
  },
  {
   "cell_type": "code",
   "execution_count": null,
   "id": "845bbe21-15fe-4b13-a4ff-24f928cab201",
   "metadata": {},
   "outputs": [],
   "source": [
    "py_list = [1, 2, 3, 4, 5]\n",
    "np_array = np.array(py_list)         "
   ]
  },
  {
   "cell_type": "code",
   "execution_count": null,
   "id": "5963c29c-c116-478d-b6e4-b63b1f027927",
   "metadata": {},
   "outputs": [],
   "source": [
    "print(sum(py_list))     # sum() is a base Python function\n",
    "print(max(py_list))     # max() is a base Python function\n",
    "print(min(py_list))     # min() is a base Python function"
   ]
  },
  {
   "cell_type": "code",
   "execution_count": null,
   "id": "f6cdd3d9-a290-4082-853a-096526623fb7",
   "metadata": {},
   "outputs": [],
   "source": [
    "%timeit sum(np_array)"
   ]
  },
  {
   "cell_type": "code",
   "execution_count": null,
   "id": "8bae1f1c-e12c-4726-a6e5-aa4200f7b993",
   "metadata": {},
   "outputs": [],
   "source": [
    "%timeit np_array.sum()"
   ]
  },
  {
   "cell_type": "code",
   "execution_count": null,
   "id": "8e2718db-8189-42ba-a946-cf22f6477462",
   "metadata": {},
   "outputs": [],
   "source": [
    "np_array.sum()\n",
    "np_array.max()\n",
    "np_array.min()\n",
    "np_array.mean()\n",
    "np_array.std()"
   ]
  },
  {
   "cell_type": "markdown",
   "id": "0cd7427b-9f9a-4b95-bc6c-06ea2e2260df",
   "metadata": {},
   "source": [
    "### <span style=\"color:darkorange\">List</span>"
   ]
  },
  {
   "cell_type": "code",
   "execution_count": null,
   "id": "ee3edbec-b2db-4faa-96dc-9e4d3d884b6e",
   "metadata": {},
   "outputs": [],
   "source": []
  },
  {
   "cell_type": "markdown",
   "id": "17eecc3a-e0d6-40dd-b228-ab9182425211",
   "metadata": {},
   "source": [
    "### <span style=\"color:darkred\">Arrays</span>"
   ]
  },
  {
   "cell_type": "code",
   "execution_count": 64,
   "id": "29a6c8bc-83c9-4d3f-8b2d-bc4a04962d77",
   "metadata": {},
   "outputs": [],
   "source": [
    "py_list = [[1,1], [2,1], [3,1], [4,1], [5,1]]\n",
    "np_array = np.array(py_list)"
   ]
  },
  {
   "cell_type": "code",
   "execution_count": null,
   "id": "8097eb15-461b-43cd-884f-e7c8e81c402f",
   "metadata": {},
   "outputs": [],
   "source": [
    "sum(py_list)"
   ]
  },
  {
   "cell_type": "code",
   "execution_count": 67,
   "id": "97077951-cbef-4f74-8f48-c626d3128639",
   "metadata": {},
   "outputs": [
    {
     "data": {
      "text/plain": [
       "array([2, 3, 4, 5, 6])"
      ]
     },
     "execution_count": 67,
     "metadata": {},
     "output_type": "execute_result"
    }
   ],
   "source": [
    "np_array.sum(axis=1)"
   ]
  },
  {
   "cell_type": "code",
   "execution_count": null,
   "id": "b1eefc52-2a5b-4113-bf14-6842e5070414",
   "metadata": {},
   "outputs": [],
   "source": []
  }
 ],
 "metadata": {
  "kernelspec": {
   "display_name": "Python 3 (ipykernel)",
   "language": "python",
   "name": "python3"
  },
  "language_info": {
   "codemirror_mode": {
    "name": "ipython",
    "version": 3
   },
   "file_extension": ".py",
   "mimetype": "text/x-python",
   "name": "python",
   "nbconvert_exporter": "python",
   "pygments_lexer": "ipython3",
   "version": "3.12.4"
  },
  "toc": {
   "base_numbering": 1,
   "nav_menu": {},
   "number_sections": true,
   "sideBar": true,
   "skip_h1_title": false,
   "title_cell": "Table of Contents",
   "title_sidebar": "Contents",
   "toc_cell": false,
   "toc_position": {},
   "toc_section_display": true,
   "toc_window_display": false
  },
  "vscode": {
   "interpreter": {
    "hash": "31f2aee4e71d21fbe5cf8b01ff0e069b9275f58929596ceb00d14d90e3e16cd6"
   }
  }
 },
 "nbformat": 4,
 "nbformat_minor": 5
}
