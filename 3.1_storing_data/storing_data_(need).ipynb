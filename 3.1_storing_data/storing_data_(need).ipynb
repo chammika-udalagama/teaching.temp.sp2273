{
 "cells": [
  {
   "attachments": {},
   "cell_type": "markdown",
   "id": "123456",
   "metadata": {},
   "source": [
    "<div style=\"text-align:left;font-size:2em\"><span style=\"font-weight:bolder;font-size:1.25em\">SP2273 | Learning Portfolio</span><br><br><span style=\"font-weight:bold;color:darkred\">Storing Data (Need)</span></div>"
   ]
  },
  {
   "attachments": {},
   "cell_type": "markdown",
   "id": "efa41499",
   "metadata": {},
   "source": [
    "# What to expect in this chapter"
   ]
  },
  {
   "attachments": {},
   "cell_type": "markdown",
   "id": "bb7d6c3f",
   "metadata": {},
   "source": [
    "# 1 Lists, Arrays & Dictionaries"
   ]
  },
  {
   "attachments": {},
   "cell_type": "markdown",
   "id": "4a01c595",
   "metadata": {},
   "source": [
    "## 1.1 Let’s compare"
   ]
  },
  {
   "cell_type": "markdown",
   "id": "3d4000bf-8fc7-4a48-94b2-4a34426c6cda",
   "metadata": {},
   "source": [
    "### Python Lists"
   ]
  },
  {
   "cell_type": "code",
   "execution_count": null,
   "id": "aa5aef9a-60f6-4c0e-8631-49a3e1ae6d38",
   "metadata": {},
   "outputs": [],
   "source": []
  },
  {
   "cell_type": "markdown",
   "id": "d4d0ad27-4bd1-4a80-9ad4-820140345e78",
   "metadata": {},
   "source": [
    "### Numpy Arrays"
   ]
  },
  {
   "cell_type": "code",
   "execution_count": null,
   "id": "4fa4ee4d-b7aa-4d35-ae49-c30ea70ffef0",
   "metadata": {},
   "outputs": [],
   "source": []
  },
  {
   "cell_type": "markdown",
   "id": "e9c2fca1-9ed3-4c62-9bdf-78ae8c4e731a",
   "metadata": {},
   "source": [
    "### Dictionary"
   ]
  },
  {
   "attachments": {},
   "cell_type": "markdown",
   "id": "1c90fecf",
   "metadata": {},
   "source": [
    "## 1.2 Accessing data from a list (or array)"
   ]
  },
  {
   "cell_type": "markdown",
   "id": "c7b785a0-1c77-4e67-8620-7f244df3d99b",
   "metadata": {},
   "source": [
    "![](https://sps.nus.edu.sg/sp2273/docs/python_basics/03_storing-data/python-zero-indexed-counting.png)"
   ]
  },
  {
   "cell_type": "markdown",
   "id": "78b0ce97-baf9-4103-8ea4-abf99f68dbbd",
   "metadata": {},
   "source": []
  },
  {
   "cell_type": "markdown",
   "id": "3f87eee9-5760-4904-b9bf-400838012227",
   "metadata": {},
   "source": [
    "### Example 1"
   ]
  },
  {
   "cell_type": "markdown",
   "id": "0755dc6a-f17b-4190-b3ba-41c16edf98b2",
   "metadata": {},
   "source": []
  },
  {
   "cell_type": "markdown",
   "id": "6b6b5e73-fbaa-4d05-bfb0-9a79e7e8076e",
   "metadata": {},
   "source": [
    "### Example 2"
   ]
  },
  {
   "cell_type": "markdown",
   "id": "a4356e50-b1a7-4afe-a7cc-82bbb8d2c3b4",
   "metadata": {},
   "source": []
  },
  {
   "cell_type": "markdown",
   "id": "1ee531b3-2311-4c4f-9a48-983f909e4eb5",
   "metadata": {},
   "source": [
    "### Example 3"
   ]
  },
  {
   "cell_type": "code",
   "execution_count": null,
   "id": "4d58d008-e3c7-4dd2-a6c1-91fc1db7cb85",
   "metadata": {},
   "outputs": [],
   "source": []
  },
  {
   "cell_type": "markdown",
   "id": "8fe25a30-b611-49c6-84e4-2e0e4712bf5f",
   "metadata": {},
   "source": [
    "### Example 4"
   ]
  },
  {
   "cell_type": "markdown",
   "id": "f19bba67-a987-44bf-9555-8ddd30f04544",
   "metadata": {},
   "source": []
  },
  {
   "cell_type": "markdown",
   "id": "4d68ab92-cce3-4b76-9554-d31d1f6c5d54",
   "metadata": {},
   "source": [
    "### Example 5"
   ]
  },
  {
   "cell_type": "markdown",
   "id": "2049d446-f183-410d-b0dd-5e87a59b7843",
   "metadata": {},
   "source": []
  },
  {
   "cell_type": "markdown",
   "id": "be84448b-9f48-45ab-8431-9fa394937d6d",
   "metadata": {},
   "source": [
    "### Example 6"
   ]
  },
  {
   "cell_type": "markdown",
   "id": "4ebebbef-38c1-41fb-8d59-4f89387b61ce",
   "metadata": {},
   "source": []
  },
  {
   "attachments": {},
   "cell_type": "markdown",
   "id": "414cc5fc",
   "metadata": {},
   "source": [
    "## 1.3 Accessing data from a dictionary"
   ]
  },
  {
   "cell_type": "code",
   "execution_count": null,
   "id": "7ce9c2a1-e83e-468b-b57a-d958a4177357",
   "metadata": {},
   "outputs": [],
   "source": []
  },
  {
   "cell_type": "code",
   "execution_count": null,
   "id": "71007d5b-d9ed-435c-bb90-073f0e8fc06e",
   "metadata": {},
   "outputs": [],
   "source": []
  },
  {
   "attachments": {},
   "cell_type": "markdown",
   "id": "bc18f6e3",
   "metadata": {},
   "source": [
    "## 1.4 Higher dimensional lists"
   ]
  },
  {
   "cell_type": "code",
   "execution_count": null,
   "id": "04ff3bd7-a424-477f-841b-df09b9a4555a",
   "metadata": {},
   "outputs": [],
   "source": []
  },
  {
   "attachments": {},
   "cell_type": "markdown",
   "id": "a0a60533",
   "metadata": {},
   "source": [
    "# 2 Lists vs. Arrays"
   ]
  },
  {
   "attachments": {},
   "cell_type": "markdown",
   "id": "b8419e6c",
   "metadata": {},
   "source": [
    "## 2.1 Size"
   ]
  },
  {
   "cell_type": "code",
   "execution_count": null,
   "id": "9453f59b-a6d3-4952-a29e-703107935997",
   "metadata": {},
   "outputs": [],
   "source": []
  },
  {
   "attachments": {},
   "cell_type": "markdown",
   "id": "a14465be",
   "metadata": {},
   "source": [
    "## 2.2 Arrays are fussy about type"
   ]
  },
  {
   "cell_type": "code",
   "execution_count": null,
   "id": "515309af-f03c-4f01-aa71-4c9bac4416a0",
   "metadata": {},
   "outputs": [],
   "source": []
  },
  {
   "attachments": {},
   "cell_type": "markdown",
   "id": "08717378",
   "metadata": {},
   "source": [
    "## 2.3 Adding a number"
   ]
  },
  {
   "cell_type": "markdown",
   "id": "6a1a4eb6-e12f-4eac-a841-d46a8a845817",
   "metadata": {},
   "source": [
    "### <span style=\"color:darkorange\">List</span>"
   ]
  },
  {
   "cell_type": "code",
   "execution_count": null,
   "id": "10b90d69-cda3-4c50-8b41-488f5e41e576",
   "metadata": {},
   "outputs": [],
   "source": []
  },
  {
   "cell_type": "markdown",
   "id": "efdfc7c9-335f-48c2-a696-754b976e584f",
   "metadata": {},
   "source": [
    "### <span style=\"color:darkred\">Arrays</span>"
   ]
  },
  {
   "cell_type": "code",
   "execution_count": null,
   "id": "80a6396d-a44b-4d4b-866b-cae200b93469",
   "metadata": {},
   "outputs": [],
   "source": []
  },
  {
   "attachments": {},
   "cell_type": "markdown",
   "id": "6d92e065",
   "metadata": {},
   "source": [
    "## 2.4 Adding another list"
   ]
  },
  {
   "cell_type": "markdown",
   "id": "11f79a25-80a3-4eeb-a057-1c2dda7ee15e",
   "metadata": {},
   "source": [
    "### <span style=\"color:darkorange\">List</span>"
   ]
  },
  {
   "cell_type": "code",
   "execution_count": null,
   "id": "1ddb75dc-d678-41f8-a725-18c9d1aa4adf",
   "metadata": {},
   "outputs": [],
   "source": []
  },
  {
   "cell_type": "markdown",
   "id": "fd7fe421-49bf-4e53-8c5a-5e2f40f7ffec",
   "metadata": {},
   "source": [
    "### <span style=\"color:darkred\">Arrays</span>"
   ]
  },
  {
   "cell_type": "code",
   "execution_count": null,
   "id": "518622ab-1371-455e-a228-211ca945ea41",
   "metadata": {},
   "outputs": [],
   "source": []
  },
  {
   "attachments": {},
   "cell_type": "markdown",
   "id": "717dc26d",
   "metadata": {},
   "source": [
    "## 2.5 Multiplying by a Number"
   ]
  },
  {
   "cell_type": "markdown",
   "id": "6ae20578-94e7-4c88-b695-0c0ad2e76b77",
   "metadata": {},
   "source": [
    "### <span style=\"color:darkorange\">List</span>"
   ]
  },
  {
   "cell_type": "code",
   "execution_count": null,
   "id": "d5635f42-95a0-4ccc-8156-75539befaaf7",
   "metadata": {},
   "outputs": [],
   "source": []
  },
  {
   "cell_type": "markdown",
   "id": "87c55a85-5a32-45e7-bb1f-753eac7629e4",
   "metadata": {},
   "source": [
    "### <span style=\"color:darkred\">Arrays</span>"
   ]
  },
  {
   "cell_type": "code",
   "execution_count": null,
   "id": "69763d03-ffae-45fe-8377-089e440dc887",
   "metadata": {},
   "outputs": [],
   "source": []
  },
  {
   "attachments": {},
   "cell_type": "markdown",
   "id": "aced6faa",
   "metadata": {},
   "source": [
    "## 2.6 Squaring"
   ]
  },
  {
   "cell_type": "markdown",
   "id": "b45b70e3-d2cf-4123-b347-b98af2eec099",
   "metadata": {},
   "source": [
    "### <span style=\"color:darkorange\">List</span>"
   ]
  },
  {
   "cell_type": "code",
   "execution_count": null,
   "id": "de2d3524-9f03-4215-b322-83517a6a40b8",
   "metadata": {},
   "outputs": [],
   "source": []
  },
  {
   "cell_type": "markdown",
   "id": "e9317e4f-3d93-4772-b2ed-8a284d781653",
   "metadata": {},
   "source": [
    "### <span style=\"color:darkred\">Arrays</span>"
   ]
  },
  {
   "cell_type": "code",
   "execution_count": null,
   "id": "8d1dc2d6-bf09-4926-9c6e-794bd640c6b2",
   "metadata": {},
   "outputs": [],
   "source": []
  },
  {
   "attachments": {},
   "cell_type": "markdown",
   "id": "3a8704cb",
   "metadata": {},
   "source": [
    "## 2.7 Asking questions"
   ]
  },
  {
   "cell_type": "markdown",
   "id": "8e566a8d-e2d8-41fe-8b1f-afd51305aefd",
   "metadata": {},
   "source": [
    "### <span style=\"color:darkorange\">List</span>"
   ]
  },
  {
   "cell_type": "code",
   "execution_count": null,
   "id": "1329622f-4969-4b81-98cf-e2ec3c4969b2",
   "metadata": {},
   "outputs": [],
   "source": []
  },
  {
   "cell_type": "markdown",
   "id": "1e67a0f2-5f8f-4b22-9dee-bc9e56912c49",
   "metadata": {},
   "source": [
    "### <span style=\"color:darkred\">Arrays</span>"
   ]
  },
  {
   "cell_type": "code",
   "execution_count": null,
   "id": "867ae0d6-af22-4065-9717-1422d1694187",
   "metadata": {},
   "outputs": [],
   "source": []
  },
  {
   "attachments": {},
   "cell_type": "markdown",
   "id": "e1b730d9",
   "metadata": {},
   "source": [
    "## 2.8 Mathematics"
   ]
  },
  {
   "cell_type": "markdown",
   "id": "0cd7427b-9f9a-4b95-bc6c-06ea2e2260df",
   "metadata": {},
   "source": [
    "### <span style=\"color:darkorange\">List</span>"
   ]
  },
  {
   "cell_type": "code",
   "execution_count": null,
   "id": "ee3edbec-b2db-4faa-96dc-9e4d3d884b6e",
   "metadata": {},
   "outputs": [],
   "source": []
  },
  {
   "cell_type": "markdown",
   "id": "17eecc3a-e0d6-40dd-b228-ab9182425211",
   "metadata": {},
   "source": [
    "### <span style=\"color:darkred\">Arrays</span>"
   ]
  },
  {
   "cell_type": "code",
   "execution_count": null,
   "id": "29a6c8bc-83c9-4d3f-8b2d-bc4a04962d77",
   "metadata": {},
   "outputs": [],
   "source": []
  }
 ],
 "metadata": {
  "kernelspec": {
   "display_name": "Python 3 (ipykernel)",
   "language": "python",
   "name": "python3"
  },
  "language_info": {
   "codemirror_mode": {
    "name": "ipython",
    "version": 3
   },
   "file_extension": ".py",
   "mimetype": "text/x-python",
   "name": "python",
   "nbconvert_exporter": "python",
   "pygments_lexer": "ipython3",
   "version": "3.11.8"
  },
  "toc": {
   "base_numbering": 1,
   "nav_menu": {},
   "number_sections": true,
   "sideBar": true,
   "skip_h1_title": false,
   "title_cell": "Table of Contents",
   "title_sidebar": "Contents",
   "toc_cell": false,
   "toc_position": {},
   "toc_section_display": true,
   "toc_window_display": false
  },
  "vscode": {
   "interpreter": {
    "hash": "31f2aee4e71d21fbe5cf8b01ff0e069b9275f58929596ceb00d14d90e3e16cd6"
   }
  }
 },
 "nbformat": 4,
 "nbformat_minor": 5
}
