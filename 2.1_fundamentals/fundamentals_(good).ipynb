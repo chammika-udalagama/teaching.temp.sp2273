{
 "cells": [
  {
   "attachments": {},
   "cell_type": "markdown",
   "id": "123456",
   "metadata": {},
   "source": [
    "<div style=\"text-align:left;font-size:2em\"><span style=\"font-weight:bolder;font-size:1.25em\">SP2273 | Learning Portfolio</span><br><br><span style=\"font-weight:bold;color:darkred\">Fundamentals (Good)</span></div>"
   ]
  },
  {
   "attachments": {},
   "cell_type": "markdown",
   "id": "52fc1c06",
   "metadata": {},
   "source": [
    "# 1 There is more to if"
   ]
  },
  {
   "cell_type": "code",
   "execution_count": null,
   "id": "650da738-cf89-4fdd-b7b8-3e3346730ddc",
   "metadata": {},
   "outputs": [],
   "source": []
  },
  {
   "attachments": {},
   "cell_type": "markdown",
   "id": "a59098dc",
   "metadata": {},
   "source": [
    "# 2 Asking questions"
   ]
  },
  {
   "cell_type": "markdown",
   "id": "559adb3c-1fac-4568-a1dc-eee8c308f3c5",
   "metadata": {},
   "source": [
    "### Example 1"
   ]
  },
  {
   "cell_type": "code",
   "execution_count": null,
   "id": "7508e79e-8263-4d27-b204-95878adc5a91",
   "metadata": {},
   "outputs": [],
   "source": []
  },
  {
   "cell_type": "markdown",
   "id": "ca3b2b47-c3e1-40de-a66d-7751402f435c",
   "metadata": {},
   "source": [
    "### Example 1"
   ]
  },
  {
   "cell_type": "code",
   "execution_count": null,
   "id": "17237ad6-5809-4869-af0e-32d02b8f71ce",
   "metadata": {},
   "outputs": [],
   "source": []
  },
  {
   "cell_type": "markdown",
   "id": "d53327cf-998f-4daf-95df-d433dd09e5b7",
   "metadata": {},
   "source": [
    "### Example 2"
   ]
  },
  {
   "cell_type": "code",
   "execution_count": null,
   "id": "3c46a81b-75f0-4a6b-8410-345c4ef78e79",
   "metadata": {},
   "outputs": [],
   "source": []
  },
  {
   "cell_type": "markdown",
   "id": "c2eb0f89-67f6-4546-ba90-11cd7b4c3853",
   "metadata": {},
   "source": [
    "### Example 3"
   ]
  },
  {
   "cell_type": "code",
   "execution_count": null,
   "id": "e9cc9a46-adcd-4c3a-a9ba-11e838d7e5f4",
   "metadata": {},
   "outputs": [],
   "source": []
  },
  {
   "cell_type": "markdown",
   "id": "4686ac9c-ef3f-4b1a-a7c8-49279a995854",
   "metadata": {},
   "source": [
    "### Example 4"
   ]
  },
  {
   "cell_type": "code",
   "execution_count": null,
   "id": "a29a22a6-5cdc-4da2-a639-41ead6933d23",
   "metadata": {},
   "outputs": [],
   "source": []
  },
  {
   "cell_type": "markdown",
   "id": "1098bd81-eec1-48a9-a8b4-278a57add2dc",
   "metadata": {},
   "source": [
    "### Example 5"
   ]
  },
  {
   "cell_type": "code",
   "execution_count": null,
   "id": "ab963d2a-299f-4c1a-812e-833c913fc14a",
   "metadata": {},
   "outputs": [],
   "source": []
  },
  {
   "cell_type": "markdown",
   "id": "cdd56a63-f4c5-4268-b026-6ae1d1824b06",
   "metadata": {},
   "source": [
    "### Example 6"
   ]
  },
  {
   "cell_type": "code",
   "execution_count": null,
   "id": "de567d5e-3b8e-41ce-aa18-57caaac31501",
   "metadata": {},
   "outputs": [],
   "source": []
  },
  {
   "cell_type": "code",
   "execution_count": null,
   "id": "9d67187d-2206-4d26-9315-58319b4450c2",
   "metadata": {},
   "outputs": [],
   "source": []
  },
  {
   "attachments": {},
   "cell_type": "markdown",
   "id": "f13d1fe5",
   "metadata": {},
   "source": [
    "## 2.1 Asking Math questions"
   ]
  },
  {
   "cell_type": "code",
   "execution_count": null,
   "id": "473d8b47-0cbf-471b-8dd7-0a61e027b657",
   "metadata": {},
   "outputs": [],
   "source": []
  },
  {
   "attachments": {},
   "cell_type": "markdown",
   "id": "2fca4217",
   "metadata": {},
   "source": [
    "# 3 Python stores information in different formats or types"
   ]
  },
  {
   "cell_type": "markdown",
   "id": "d30fea93-bedf-4678-bf86-ca9193cd07a8",
   "metadata": {},
   "source": [
    "### Example 1"
   ]
  },
  {
   "cell_type": "code",
   "execution_count": null,
   "id": "c54e2acd-30de-40d9-a1d2-8ac8dc7e2a3f",
   "metadata": {},
   "outputs": [],
   "source": []
  },
  {
   "cell_type": "markdown",
   "id": "b8b5179c-9b78-4e8b-aa18-9d007eba1b65",
   "metadata": {},
   "source": [
    "### Example 2"
   ]
  },
  {
   "cell_type": "code",
   "execution_count": null,
   "id": "6a869d47-65b8-41f4-8882-9b1182f3ada4",
   "metadata": {},
   "outputs": [],
   "source": []
  },
  {
   "cell_type": "markdown",
   "id": "a86f1818-982d-4c0a-bfd6-64259654fcbf",
   "metadata": {},
   "source": [
    "### Example 3"
   ]
  },
  {
   "cell_type": "code",
   "execution_count": null,
   "id": "12d6e822-6917-4847-b760-a13934756945",
   "metadata": {},
   "outputs": [],
   "source": []
  },
  {
   "cell_type": "markdown",
   "id": "baf9ecb5-9af4-4b86-a286-a51063812ef1",
   "metadata": {},
   "source": [
    "### Example 4"
   ]
  },
  {
   "cell_type": "code",
   "execution_count": null,
   "id": "e348f44a-2c98-43cf-868b-68dc1d4d4ea5",
   "metadata": {},
   "outputs": [],
   "source": []
  },
  {
   "attachments": {},
   "cell_type": "markdown",
   "id": "80c7801b",
   "metadata": {},
   "source": [
    "# 4 Never compare floats directly"
   ]
  },
  {
   "attachments": {},
   "cell_type": "markdown",
   "id": "d9429d3e",
   "metadata": {},
   "source": [
    "## 4.1 The Problem"
   ]
  },
  {
   "cell_type": "code",
   "execution_count": null,
   "id": "ce7bda88-daea-4491-9352-df23f5da4408",
   "metadata": {},
   "outputs": [],
   "source": []
  },
  {
   "cell_type": "code",
   "execution_count": null,
   "id": "7f11cec1-8105-483e-8401-df3ce1d95481",
   "metadata": {},
   "outputs": [],
   "source": []
  },
  {
   "attachments": {},
   "cell_type": "markdown",
   "id": "a80ffad1",
   "metadata": {},
   "source": [
    "## 4.2 A solution"
   ]
  },
  {
   "cell_type": "code",
   "execution_count": null,
   "id": "032d7227-a57f-4153-a31c-5f3cc30d60a8",
   "metadata": {},
   "outputs": [],
   "source": []
  },
  {
   "cell_type": "code",
   "execution_count": null,
   "id": "0b32b379-8144-45fb-b063-1892b821ced2",
   "metadata": {},
   "outputs": [],
   "source": []
  },
  {
   "attachments": {},
   "cell_type": "markdown",
   "id": "7958bf27",
   "metadata": {},
   "source": [
    "# 5 Combining English and variables"
   ]
  },
  {
   "cell_type": "code",
   "execution_count": null,
   "id": "4bf27a97-ad15-48cf-b09f-2c4a20d69ee2",
   "metadata": {},
   "outputs": [],
   "source": []
  },
  {
   "cell_type": "code",
   "execution_count": null,
   "id": "3e07992b-67cf-44f6-bf7f-db95196b2ac8",
   "metadata": {},
   "outputs": [],
   "source": []
  },
  {
   "cell_type": "markdown",
   "id": "18a24361-5886-4168-8fe4-ef9adb75d0f8",
   "metadata": {},
   "source": [
    "### Example 1"
   ]
  },
  {
   "cell_type": "code",
   "execution_count": null,
   "id": "a1cca4d4-36f4-4b75-85d9-abb336f61fb6",
   "metadata": {},
   "outputs": [],
   "source": []
  },
  {
   "cell_type": "markdown",
   "id": "9bf62458-28a2-4818-9372-49813c573cd1",
   "metadata": {},
   "source": [
    "### Example 2"
   ]
  },
  {
   "cell_type": "code",
   "execution_count": null,
   "id": "bc000710-0b23-4b51-984b-d234868f7cc6",
   "metadata": {},
   "outputs": [],
   "source": []
  },
  {
   "cell_type": "markdown",
   "id": "626f80a6-fa0f-4941-afcd-0ec8c0234090",
   "metadata": {},
   "source": [
    "### Example 3"
   ]
  },
  {
   "cell_type": "code",
   "execution_count": null,
   "id": "379bf375-09b3-4f06-9c99-bfb929740790",
   "metadata": {},
   "outputs": [],
   "source": []
  },
  {
   "cell_type": "markdown",
   "id": "bae2c2f5-2f43-46c3-b0f8-0cca0289da70",
   "metadata": {},
   "source": [
    "### Example 4"
   ]
  },
  {
   "cell_type": "code",
   "execution_count": null,
   "id": "66241f1a-82b2-4f3f-a82d-fc8fe744baf5",
   "metadata": {},
   "outputs": [],
   "source": []
  },
  {
   "cell_type": "markdown",
   "id": "9a95e469-7a46-4fdc-bdbf-9a76cfa6b4f3",
   "metadata": {},
   "source": [
    "### Example 5"
   ]
  },
  {
   "cell_type": "code",
   "execution_count": null,
   "id": "7cbeaee3-efb6-4dff-a0c0-cbca1d5f70a3",
   "metadata": {},
   "outputs": [],
   "source": []
  },
  {
   "cell_type": "markdown",
   "id": "176f16ba-6c24-4d8d-871d-d97d091a08b5",
   "metadata": {},
   "source": [
    "### Example 6"
   ]
  },
  {
   "cell_type": "code",
   "execution_count": null,
   "id": "3a22f1d7-6250-41a9-bcdf-72993c98d578",
   "metadata": {},
   "outputs": [],
   "source": []
  },
  {
   "cell_type": "code",
   "execution_count": null,
   "id": "af91c076-2e58-4e50-b80e-1bd780490e2e",
   "metadata": {},
   "outputs": [],
   "source": []
  },
  {
   "attachments": {},
   "cell_type": "markdown",
   "id": "8009b30c",
   "metadata": {},
   "source": [
    "## 5.1 Structure of f-strings"
   ]
  },
  {
   "cell_type": "code",
   "execution_count": null,
   "id": "902e9bbb-bd6a-485a-a1c3-9e38b2f003f5",
   "metadata": {},
   "outputs": [],
   "source": []
  },
  {
   "attachments": {},
   "cell_type": "markdown",
   "id": "e6660a16",
   "metadata": {},
   "source": [
    "# 6 Escape sequences"
   ]
  },
  {
   "cell_type": "code",
   "execution_count": 3,
   "id": "874648d7-a801-4be2-b638-70201e98748c",
   "metadata": {},
   "outputs": [
    {
     "name": "stdout",
     "output_type": "stream",
     "text": [
      "AB'C\n"
     ]
    }
   ],
   "source": [
    "print('AB\\'C')"
   ]
  },
  {
   "cell_type": "code",
   "execution_count": 4,
   "id": "c768656b-2180-4f21-9cfa-0cd6337e3505",
   "metadata": {},
   "outputs": [
    {
     "name": "stdout",
     "output_type": "stream",
     "text": [
      "AB'C\n"
     ]
    }
   ],
   "source": [
    "print(\"AB'C\")"
   ]
  },
  {
   "cell_type": "code",
   "execution_count": 5,
   "id": "534570cc-c9cc-4958-a88b-2953e62a8125",
   "metadata": {},
   "outputs": [],
   "source": [
    "x = 40\n",
    "y = x + 2"
   ]
  },
  {
   "cell_type": "code",
   "execution_count": 6,
   "id": "1401d0f6-aa05-45d8-81c1-3ceeb63f8bfb",
   "metadata": {},
   "outputs": [
    {
     "name": "stdout",
     "output_type": "stream",
     "text": [
      "42\n"
     ]
    }
   ],
   "source": [
    "print(y)"
   ]
  },
  {
   "cell_type": "code",
   "execution_count": null,
   "id": "e3877d70-fc9d-46fe-8530-ece578c97571",
   "metadata": {},
   "outputs": [],
   "source": [
    "y = 40\n",
    "y = y + 2\n",
    "print(y)"
   ]
  },
  {
   "cell_type": "code",
   "execution_count": null,
   "id": "b2f6317c-202e-44bb-a54d-ddf31ee33656",
   "metadata": {},
   "outputs": [],
   "source": [
    "x = y = 10"
   ]
  },
  {
   "cell_type": "markdown",
   "id": "812b7ee4-f543-4a47-bce5-39c6fdc03315",
   "metadata": {},
   "source": [
    "### Example 1"
   ]
  },
  {
   "cell_type": "code",
   "execution_count": null,
   "id": "4724f377-ce97-4512-8b68-8c36d6a39f7c",
   "metadata": {},
   "outputs": [],
   "source": []
  },
  {
   "cell_type": "markdown",
   "id": "cd072cd1-0645-4042-98f7-36272314625f",
   "metadata": {},
   "source": [
    "### Example 2"
   ]
  },
  {
   "cell_type": "code",
   "execution_count": null,
   "id": "4bcd8db5-1bee-4723-97be-3786d0d55828",
   "metadata": {},
   "outputs": [],
   "source": []
  },
  {
   "cell_type": "markdown",
   "id": "92c5b6dc-f2f7-4390-aee2-d35c6467cbdb",
   "metadata": {},
   "source": [
    "### Example 3"
   ]
  },
  {
   "cell_type": "code",
   "execution_count": null,
   "id": "63cc020e-1b84-4980-a233-74662610bbbb",
   "metadata": {},
   "outputs": [],
   "source": []
  },
  {
   "cell_type": "markdown",
   "id": "9b621a63-3e98-45f5-96e0-88bb19d9db0e",
   "metadata": {},
   "source": [
    "### Example 4"
   ]
  },
  {
   "cell_type": "code",
   "execution_count": null,
   "id": "88584bb4-8879-4170-b991-326235b91bef",
   "metadata": {},
   "outputs": [],
   "source": []
  },
  {
   "attachments": {},
   "cell_type": "markdown",
   "id": "cde07598",
   "metadata": {},
   "source": [
    "## 6.1 Self-documenting f-strings"
   ]
  },
  {
   "cell_type": "code",
   "execution_count": null,
   "id": "2fec1c0e-7158-4076-a3ce-c1c530b248f2",
   "metadata": {},
   "outputs": [],
   "source": []
  },
  {
   "cell_type": "code",
   "execution_count": null,
   "id": "ffa2e4c7-70c4-4325-a67c-c2122c186452",
   "metadata": {},
   "outputs": [],
   "source": []
  },
  {
   "attachments": {},
   "cell_type": "markdown",
   "id": "86e69af4",
   "metadata": {},
   "source": [
    "# 7 Computers read = from Right to Left!"
   ]
  },
  {
   "cell_type": "code",
   "execution_count": null,
   "id": "f1100ce6-f40d-4e44-a62d-61e0fb50afc3",
   "metadata": {},
   "outputs": [],
   "source": []
  },
  {
   "attachments": {},
   "cell_type": "markdown",
   "id": "25bb58c0",
   "metadata": {},
   "source": [
    "# 8 Shorter and Cleaner Code"
   ]
  },
  {
   "cell_type": "code",
   "execution_count": null,
   "id": "a8cb982c-78db-415b-80b2-88fc26af347d",
   "metadata": {},
   "outputs": [],
   "source": [
    "y = 40\n",
    "y = y + 2\n",
    "y\n",
    "\n",
    "\n",
    "y = 40\n",
    "y += 2    # Same as y = y + 2\n",
    "y"
   ]
  },
  {
   "cell_type": "code",
   "execution_count": 7,
   "id": "6527f5b0-78de-4ec4-8482-b35d6d6bd6e3",
   "metadata": {},
   "outputs": [
    {
     "ename": "NameError",
     "evalue": "name 'Print' is not defined",
     "output_type": "error",
     "traceback": [
      "\u001b[1;31m---------------------------------------------------------------------------\u001b[0m",
      "\u001b[1;31mNameError\u001b[0m                                 Traceback (most recent call last)",
      "Cell \u001b[1;32mIn[7], line 1\u001b[0m\n\u001b[1;32m----> 1\u001b[0m Print()\n",
      "\u001b[1;31mNameError\u001b[0m: name 'Print' is not defined"
     ]
    }
   ],
   "source": [
    "Print()"
   ]
  },
  {
   "attachments": {},
   "cell_type": "markdown",
   "id": "f3057390",
   "metadata": {},
   "source": [
    "# 9 Python can be a prima-donna."
   ]
  },
  {
   "cell_type": "code",
   "execution_count": null,
   "id": "4734d302-e6b4-4b99-a4b6-d89acce7f3c6",
   "metadata": {},
   "outputs": [],
   "source": []
  },
  {
   "attachments": {},
   "cell_type": "markdown",
   "id": "4cd24502",
   "metadata": {},
   "source": [
    "# 10 Best Practices for Scientific Computing"
   ]
  },
  {
   "cell_type": "code",
   "execution_count": null,
   "id": "10aa1d6f-d303-4a3a-8726-9870f876248d",
   "metadata": {},
   "outputs": [],
   "source": []
  },
  {
   "attachments": {},
   "cell_type": "markdown",
   "id": "e2601bcf",
   "metadata": {},
   "source": [
    "# 11 Looking for help"
   ]
  },
  {
   "cell_type": "code",
   "execution_count": null,
   "id": "348c14ab-34fe-4e59-9c0f-b7a975cdd072",
   "metadata": {},
   "outputs": [],
   "source": []
  }
 ],
 "metadata": {
  "kernelspec": {
   "display_name": "Python 3 (ipykernel)",
   "language": "python",
   "name": "python3"
  },
  "language_info": {
   "codemirror_mode": {
    "name": "ipython",
    "version": 3
   },
   "file_extension": ".py",
   "mimetype": "text/x-python",
   "name": "python",
   "nbconvert_exporter": "python",
   "pygments_lexer": "ipython3",
   "version": "3.12.4"
  },
  "toc": {
   "base_numbering": 1,
   "nav_menu": {},
   "number_sections": true,
   "sideBar": true,
   "skip_h1_title": false,
   "title_cell": "Table of Contents",
   "title_sidebar": "Contents",
   "toc_cell": false,
   "toc_position": {},
   "toc_section_display": true,
   "toc_window_display": false
  },
  "vscode": {
   "interpreter": {
    "hash": "31f2aee4e71d21fbe5cf8b01ff0e069b9275f58929596ceb00d14d90e3e16cd6"
   }
  }
 },
 "nbformat": 4,
 "nbformat_minor": 5
}
