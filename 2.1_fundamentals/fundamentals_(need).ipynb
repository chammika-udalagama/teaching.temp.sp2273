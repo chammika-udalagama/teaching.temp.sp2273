{
 "cells": [
  {
   "cell_type": "code",
   "execution_count": null,
   "id": "93e870ff-65a6-4d20-9b23-da3a04dc1145",
   "metadata": {},
   "outputs": [],
   "source": [
    "%%HTML\n",
    "<iframe width=\"560\" height=\"315\" src=\"https://www.youtube.com/embed/qkgneeeubkY?si=obOgTf1QGmVPG58o\" title=\"YouTube video player\" frameborder=\"0\" allow=\"accelerometer; autoplay; clipboard-write; encrypted-media; gyroscope; picture-in-picture; web-share\" referrerpolicy=\"strict-origin-when-cross-origin\" allowfullscreen></iframe>"
   ]
  },
  {
   "attachments": {},
   "cell_type": "markdown",
   "id": "123456",
   "metadata": {},
   "source": [
    "<div style=\"text-align:left;font-size:2em\"><span style=\"font-weight:bolder;font-size:1.25em\">SP2273 | Learning Portfolio</span><br><br><span style=\"font-weight:bold;color:darkred\">Fundamentals (Need)</span></div>"
   ]
  },
  {
   "cell_type": "code",
   "execution_count": 4,
   "id": "076628de-1315-46aa-8530-709ed13edb57",
   "metadata": {},
   "outputs": [],
   "source": [
    "import math\n",
    "import numpy"
   ]
  },
  {
   "attachments": {},
   "cell_type": "markdown",
   "id": "8007ac95",
   "metadata": {},
   "source": [
    "# 1 Functions"
   ]
  },
  {
   "cell_type": "code",
   "execution_count": null,
   "id": "1903df59-3b34-4ae5-b24f-3ca7443cfb74",
   "metadata": {},
   "outputs": [],
   "source": [
    "print('Hello world!')"
   ]
  },
  {
   "attachments": {},
   "cell_type": "markdown",
   "id": "a6a84553",
   "metadata": {},
   "source": [
    "# 2 Python is interpreted"
   ]
  },
  {
   "cell_type": "code",
   "execution_count": null,
   "id": "a4b32a12-b464-47b6-ad71-dcf2b4cc4e8c",
   "metadata": {},
   "outputs": [],
   "source": [
    "print('Hello World')\n",
    "print('Hello World again')\n",
    "print(y)"
   ]
  },
  {
   "attachments": {},
   "cell_type": "markdown",
   "id": "4a6a97a3",
   "metadata": {},
   "source": [
    "# 3 Python is sensitive."
   ]
  },
  {
   "cell_type": "code",
   "execution_count": null,
   "id": "068d1c6f-fe85-4469-a942-5343d17a502a",
   "metadata": {},
   "outputs": [],
   "source": [
    "print('Hello Hahahahha World')\n",
    "Print('Hello Hahahahha World again')"
   ]
  },
  {
   "attachments": {},
   "cell_type": "markdown",
   "id": "9f0b8064",
   "metadata": {},
   "source": [
    "# 4 Comments"
   ]
  },
  {
   "cell_type": "code",
   "execution_count": null,
   "id": "23d5d543-d96c-4150-9442-6186255df660",
   "metadata": {},
   "outputs": [],
   "source": [
    "# 200032 is a conversion factor\n",
    "for age_in_thousands_of_years in range(10):\n",
    "    print(age_in_thousands_of_years/200032)"
   ]
  },
  {
   "attachments": {},
   "cell_type": "markdown",
   "id": "1933dc30",
   "metadata": {},
   "source": [
    "# 5 = is not the same as =="
   ]
  },
  {
   "cell_type": "code",
   "execution_count": null,
   "id": "69ccca78-e2a1-4118-add3-ec92de34d29a",
   "metadata": {},
   "outputs": [],
   "source": [
    "name='batman'"
   ]
  },
  {
   "cell_type": "code",
   "execution_count": null,
   "id": "09c56883-1f83-4a7c-b6d9-0b4361b306fc",
   "metadata": {},
   "outputs": [],
   "source": [
    "name=='robin'"
   ]
  },
  {
   "attachments": {},
   "cell_type": "markdown",
   "id": "153c7445",
   "metadata": {},
   "source": [
    "# 6 Use if to make decisions"
   ]
  },
  {
   "cell_type": "code",
   "execution_count": null,
   "id": "bda7a51c-3fe0-4d8f-8ef5-77a636944d30",
   "metadata": {},
   "outputs": [],
   "source": [
    "name = 'Batman'\n",
    "\n",
    "if name == 'Batman':\n",
    "    print('Hello Batman!')\n",
    "    print('You are cool')\n",
    "    print('Thank gooodness')\n",
    "else:\n",
    "    print('Hello World!')"
   ]
  },
  {
   "cell_type": "code",
   "execution_count": null,
   "id": "0d77a456-cd92-4fbc-8a72-8472ec7bb088",
   "metadata": {},
   "outputs": [],
   "source": [
    "# Written in C\n",
    "if (name == 'Batman') {\n",
    "  print('Hello Hero | Batman!')\n",
    "      print('Hello Hero | Batman!')\n",
    "print('Hello Hero | Batman!')\n",
    "\n",
    "} else {\n",
    "  print('Hello World!')\n",
    "}"
   ]
  },
  {
   "attachments": {},
   "cell_type": "markdown",
   "id": "54300c12",
   "metadata": {},
   "source": [
    "# 7 Indentations (spaces) are sooo IMPORTANT!"
   ]
  },
  {
   "cell_type": "code",
   "execution_count": null,
   "id": "3afea9c0-9173-4cfb-8f5f-13ab690014a6",
   "metadata": {},
   "outputs": [],
   "source": [
    "x = 10\n",
    "print(x)"
   ]
  },
  {
   "attachments": {},
   "cell_type": "markdown",
   "id": "8bb9fc10",
   "metadata": {},
   "source": [
    "# 8 ‘age’ is English, age is a variable."
   ]
  },
  {
   "cell_type": "code",
   "execution_count": null,
   "id": "edc34140-d98e-4bcc-b294-b956702d3d18",
   "metadata": {},
   "outputs": [],
   "source": [
    "age=10"
   ]
  },
  {
   "cell_type": "code",
   "execution_count": null,
   "id": "bf3fe6bf-7709-46cf-8bf6-9a7a66bc9980",
   "metadata": {},
   "outputs": [],
   "source": [
    "print('age')\n",
    "print(age)"
   ]
  },
  {
   "attachments": {},
   "cell_type": "markdown",
   "id": "d7b6b5fe",
   "metadata": {},
   "source": [
    "# 9 Brackets"
   ]
  },
  {
   "cell_type": "code",
   "execution_count": null,
   "id": "8ba45d0c-04ac-42bc-8fb6-2e30df3f72f9",
   "metadata": {},
   "outputs": [],
   "source": [
    "print('Hello!')             # In functions\n",
    "(1 + 2) * 5                 # For math"
   ]
  },
  {
   "cell_type": "code",
   "execution_count": null,
   "id": "b6fae6f1-eed4-4cd5-ad47-a96aee756255",
   "metadata": {},
   "outputs": [],
   "source": [
    "type([1, 2, 3, 4, 5])   "
   ]
  },
  {
   "cell_type": "code",
   "execution_count": null,
   "id": "f7bcd55a-0dc2-427f-a8ca-150f320ddf74",
   "metadata": {},
   "outputs": [],
   "source": [
    "type((1, 2, 3, 4, 5)   )"
   ]
  },
  {
   "cell_type": "code",
   "execution_count": null,
   "id": "85c494f1-d920-40a7-86ba-b60c1e4f07cc",
   "metadata": {},
   "outputs": [],
   "source": [
    "type({1, 2, 3, 4, 5})"
   ]
  },
  {
   "cell_type": "code",
   "execution_count": null,
   "id": "f98123cb-cbdd-48fd-ae9c-5ac8c1aba9f3",
   "metadata": {},
   "outputs": [],
   "source": [
    "[1, 2, 3, 4, 5]   \n",
    "(1, 2, 3, 4, 5)   \n",
    "{1, 2, 3, 4, 5}   \n",
    "\n",
    "py_list_2 = [               # A 2D list\n",
    "                [1, \"A\"],      \n",
    "                [2, \"B\"],\n",
    "                [3, \"C\"],\n",
    "                [4, \"D\"],\n",
    "                [5, \"E\"]\n",
    "            ]"
   ]
  },
  {
   "cell_type": "code",
   "execution_count": null,
   "id": "6a7c0ca9-b282-4adb-aecf-2b00c6f7f48d",
   "metadata": {},
   "outputs": [],
   "source": [
    "{1, 2, 3, 4, 5}    # This is a set\n",
    "\n",
    "# This is a dictionary\n",
    "personal_info = {\n",
    "    'Names': 'Batman',\n",
    "    'Real Name': 'Bruce Wayne',\n",
    "    'Age': 55,\n",
    "    'Affiliation': 'Justice League',\n",
    "    'Universe': 'DC'\n",
    "}"
   ]
  },
  {
   "attachments": {},
   "cell_type": "markdown",
   "id": "872e21b1",
   "metadata": {},
   "source": [
    "# 10 Giving Python superpowers with Packages"
   ]
  },
  {
   "cell_type": "code",
   "execution_count": null,
   "id": "1db77fb1-320f-4b5d-80c5-e697cb39c739",
   "metadata": {},
   "outputs": [],
   "source": [
    "import math\n",
    "import numpy"
   ]
  },
  {
   "cell_type": "code",
   "execution_count": null,
   "id": "c9a8a016-7eb3-4f9c-9c28-73b2f9f39100",
   "metadata": {},
   "outputs": [],
   "source": [
    "math.sqrt(4)"
   ]
  },
  {
   "cell_type": "code",
   "execution_count": null,
   "id": "1ec8e12d-72d7-46cc-bf01-c112882cb8f3",
   "metadata": {},
   "outputs": [],
   "source": [
    "numpy.sqrt(4)"
   ]
  },
  {
   "cell_type": "code",
   "execution_count": null,
   "id": "bfdac3c3-0836-4536-bc47-92a9d00a5717",
   "metadata": {},
   "outputs": [],
   "source": [
    "math.sqrt([1, 2, 3, 4, 5] )"
   ]
  },
  {
   "cell_type": "code",
   "execution_count": null,
   "id": "c5cfefaf-92d1-4349-95f0-d2d819ee7ebc",
   "metadata": {},
   "outputs": [],
   "source": [
    "numpy.sqrt([1, 2, 3, 4, 5] )"
   ]
  },
  {
   "attachments": {},
   "cell_type": "markdown",
   "id": "4d8fdce8",
   "metadata": {},
   "source": [
    "## 10.1 Some Context"
   ]
  },
  {
   "attachments": {},
   "cell_type": "markdown",
   "id": "befedacd",
   "metadata": {},
   "source": [
    "## 10.2 Importing the math package"
   ]
  },
  {
   "attachments": {},
   "cell_type": "markdown",
   "id": "0bb70f29",
   "metadata": {},
   "source": [
    "## 10.3 Importing the numpy package"
   ]
  },
  {
   "attachments": {},
   "cell_type": "markdown",
   "id": "21767fd0",
   "metadata": {},
   "source": [
    "## 10.4 Why so many packages?"
   ]
  },
  {
   "attachments": {},
   "cell_type": "markdown",
   "id": "effa411c",
   "metadata": {},
   "source": [
    "# 11 The dot (.)"
   ]
  },
  {
   "cell_type": "code",
   "execution_count": null,
   "id": "102ba274-2722-4fb8-ab9f-88d8fbf0c8a5",
   "metadata": {},
   "outputs": [],
   "source": [
    "math.sqrt(4)\n",
    "numpy.sqrt(4)"
   ]
  },
  {
   "cell_type": "code",
   "execution_count": 9,
   "id": "44aeb07b-3674-4de3-a9c6-1dd808a45622",
   "metadata": {},
   "outputs": [
    {
     "data": {
      "text/plain": [
       "'xyxyxyxyxyh'"
      ]
     },
     "execution_count": 9,
     "metadata": {},
     "output_type": "execute_result"
    }
   ],
   "source": [
    "'hahahahahah'.replace('ha','xy')"
   ]
  },
  {
   "cell_type": "code",
   "execution_count": 8,
   "id": "c2405a1d-f99b-4c9b-ae61-e5593e977a33",
   "metadata": {},
   "outputs": [
    {
     "data": {
      "text/plain": [
       "'ZyZyZyZyZyh'"
      ]
     },
     "execution_count": 8,
     "metadata": {},
     "output_type": "execute_result"
    }
   ],
   "source": [
    "('hahahahahah'.replace('ha','xy')).replace('x','Z')"
   ]
  },
  {
   "cell_type": "code",
   "execution_count": 10,
   "id": "6968975b-ec26-44d2-a4f8-85443f1904a7",
   "metadata": {},
   "outputs": [
    {
     "data": {
      "text/plain": [
       "'HAHAHAHAHAH'"
      ]
     },
     "execution_count": 10,
     "metadata": {},
     "output_type": "execute_result"
    }
   ],
   "source": [
    "'hahahahahah'.upper()"
   ]
  },
  {
   "cell_type": "code",
   "execution_count": null,
   "id": "d4169d84-b226-4e01-83de-e0cd0ab3c349",
   "metadata": {},
   "outputs": [],
   "source": [
    "1234.upper()"
   ]
  }
 ],
 "metadata": {
  "kernelspec": {
   "display_name": "Python 3 (ipykernel)",
   "language": "python",
   "name": "python3"
  },
  "language_info": {
   "codemirror_mode": {
    "name": "ipython",
    "version": 3
   },
   "file_extension": ".py",
   "mimetype": "text/x-python",
   "name": "python",
   "nbconvert_exporter": "python",
   "pygments_lexer": "ipython3",
   "version": "3.12.3"
  },
  "toc": {
   "base_numbering": 1,
   "nav_menu": {},
   "number_sections": true,
   "sideBar": true,
   "skip_h1_title": false,
   "title_cell": "Table of Contents",
   "title_sidebar": "Contents",
   "toc_cell": false,
   "toc_position": {},
   "toc_section_display": true,
   "toc_window_display": false
  },
  "vscode": {
   "interpreter": {
    "hash": "31f2aee4e71d21fbe5cf8b01ff0e069b9275f58929596ceb00d14d90e3e16cd6"
   }
  }
 },
 "nbformat": 4,
 "nbformat_minor": 5
}
